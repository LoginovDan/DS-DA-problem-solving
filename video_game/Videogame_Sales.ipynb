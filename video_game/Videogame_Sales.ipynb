{
 "cells": [
  {
   "cell_type": "markdown",
   "id": "73d0badf",
   "metadata": {},
   "source": [
    "<div style=\"border:solid steelblue 1px; padding: 20px\">\n",
    "<b>Описание данных:</b> <br />\n",
    "Name — название игры <br />\n",
    "Platform — платформа <br />\n",
    "Year_of_Release — год выпуска <br />\n",
    "Genre — жанр игры <br />\n",
    "NA_sales — продажи в Северной Америке (миллионы проданных копий) <br />\n",
    "EU_sales — продажи в Европе (миллионы проданных копий) <br />\n",
    "JP_sales — продажи в Японии (миллионы проданных копий) <br />\n",
    "Other_sales — продажи в других странах (миллионы проданных копий) <br />\n",
    "Global_Sales— суммарные продажи (миллионы проданных копий)<br />\n",
    "Critic_Score — оценка критиков (максимум 100) <br />\n",
    "User_Score — оценка пользователей (максимум 10) <br />\n",
    "Critic_Count, User_Count— количество оценок критиков и пользователей(соответсвенно)<br />\n",
    "Rating — рейтинг от организации ESRB (англ. Entertainment Software Rating Board). Эта ассоциация определяет рейтинг компьютерных игр и присваивает им подходящую возрастную категорию. <br />"
   ]
  },
  {
   "cell_type": "markdown",
   "id": "e16ebddb",
   "metadata": {},
   "source": [
    "\n",
    "## ВВЕДЕНИЕ"
   ]
  },
  {
   "cell_type": "markdown",
   "id": "4ab8878a",
   "metadata": {},
   "source": [
    "<div style=\"border:solid steelblue 1px; padding: 20px\">\n",
    "Целью данного исследования является выявление определяющих успешность игр закономерности. Это позволит сделать ставку на потенциально популярный продукт и спланировать рекламные кампании. <br /> \n",
    " <br /> \n",
    "Входные данные - данные о продажах игр, оценки пользователей и экспертов, жанры и платформы (например, Xbox или PlayStation)"
   ]
  },
  {
   "cell_type": "code",
   "execution_count": 1,
   "id": "8365bab2",
   "metadata": {},
   "outputs": [],
   "source": [
    "import pandas as pd\n",
    "import numpy as np\n",
    "import matplotlib.pyplot as plt\n",
    "import seaborn as sns\n",
    "import warnings\n",
    "from sklearn.model_selection import ShuffleSplit\n",
    "from sklearn.model_selection import train_test_split, GridSearchCV\n",
    "from catboost import CatBoostRegressor\n",
    "from sklearn.ensemble import RandomForestRegressor\n",
    "from sklearn.metrics import mean_squared_error\n",
    "from sklearn.preprocessing import OrdinalEncoder"
   ]
  },
  {
   "cell_type": "code",
   "execution_count": 2,
   "id": "c5041169",
   "metadata": {},
   "outputs": [],
   "source": [
    "pd.set_option('display.max_columns', None)\n",
    "warnings.filterwarnings(\"ignore\")"
   ]
  },
  {
   "cell_type": "code",
   "execution_count": 3,
   "id": "cd33afe1",
   "metadata": {},
   "outputs": [],
   "source": [
    "df = pd.read_csv(r'C:\\Users\\DAN\\Desktop\\video_game\\Videogame_Sales.csv', encoding = 'cp1251')"
   ]
  },
  {
   "cell_type": "code",
   "execution_count": 4,
   "id": "235deabb",
   "metadata": {},
   "outputs": [
    {
     "name": "stdout",
     "output_type": "stream",
     "text": [
      "<class 'pandas.core.frame.DataFrame'>\n",
      "RangeIndex: 17416 entries, 0 to 17415\n",
      "Data columns (total 15 columns):\n",
      " #   Column           Non-Null Count  Dtype  \n",
      "---  ------           --------------  -----  \n",
      " 0   Name             17416 non-null  object \n",
      " 1   Platform         17416 non-null  object \n",
      " 2   Year_of_Release  17408 non-null  float64\n",
      " 3   Genre            17416 non-null  object \n",
      " 4   Publisher        17415 non-null  object \n",
      " 5   NA_Sales         17416 non-null  float64\n",
      " 6   EU_Sales         17416 non-null  float64\n",
      " 7   JP_Sales         17416 non-null  float64\n",
      " 8   Other_Sales      17416 non-null  float64\n",
      " 9   Global_Sales     17416 non-null  float64\n",
      " 10  Critic_Score     8336 non-null   float64\n",
      " 11  Critic_Count     8336 non-null   float64\n",
      " 12  User_Score       7798 non-null   float64\n",
      " 13  User_Count       7798 non-null   float64\n",
      " 14  Rating           10252 non-null  object \n",
      "dtypes: float64(10), object(5)\n",
      "memory usage: 2.0+ MB\n"
     ]
    },
    {
     "data": {
      "text/html": [
       "<div>\n",
       "<style scoped>\n",
       "    .dataframe tbody tr th:only-of-type {\n",
       "        vertical-align: middle;\n",
       "    }\n",
       "\n",
       "    .dataframe tbody tr th {\n",
       "        vertical-align: top;\n",
       "    }\n",
       "\n",
       "    .dataframe thead th {\n",
       "        text-align: right;\n",
       "    }\n",
       "</style>\n",
       "<table border=\"1\" class=\"dataframe\">\n",
       "  <thead>\n",
       "    <tr style=\"text-align: right;\">\n",
       "      <th></th>\n",
       "      <th>Name</th>\n",
       "      <th>Platform</th>\n",
       "      <th>Year_of_Release</th>\n",
       "      <th>Genre</th>\n",
       "      <th>Publisher</th>\n",
       "      <th>NA_Sales</th>\n",
       "      <th>EU_Sales</th>\n",
       "      <th>JP_Sales</th>\n",
       "      <th>Other_Sales</th>\n",
       "      <th>Global_Sales</th>\n",
       "      <th>Critic_Score</th>\n",
       "      <th>Critic_Count</th>\n",
       "      <th>User_Score</th>\n",
       "      <th>User_Count</th>\n",
       "      <th>Rating</th>\n",
       "    </tr>\n",
       "  </thead>\n",
       "  <tbody>\n",
       "    <tr>\n",
       "      <th>0</th>\n",
       "      <td>Wii Sports</td>\n",
       "      <td>Wii</td>\n",
       "      <td>2006.0</td>\n",
       "      <td>Sports</td>\n",
       "      <td>Nintendo</td>\n",
       "      <td>41.36</td>\n",
       "      <td>28.96</td>\n",
       "      <td>3.77</td>\n",
       "      <td>8.45</td>\n",
       "      <td>82.54</td>\n",
       "      <td>76.0</td>\n",
       "      <td>51.0</td>\n",
       "      <td>8.0</td>\n",
       "      <td>324.0</td>\n",
       "      <td>E</td>\n",
       "    </tr>\n",
       "    <tr>\n",
       "      <th>1</th>\n",
       "      <td>Super Mario Bros.</td>\n",
       "      <td>NES</td>\n",
       "      <td>1985.0</td>\n",
       "      <td>Platform</td>\n",
       "      <td>Nintendo</td>\n",
       "      <td>29.08</td>\n",
       "      <td>3.58</td>\n",
       "      <td>6.81</td>\n",
       "      <td>0.77</td>\n",
       "      <td>40.24</td>\n",
       "      <td>NaN</td>\n",
       "      <td>NaN</td>\n",
       "      <td>NaN</td>\n",
       "      <td>NaN</td>\n",
       "      <td>NaN</td>\n",
       "    </tr>\n",
       "    <tr>\n",
       "      <th>2</th>\n",
       "      <td>Mario Kart Wii</td>\n",
       "      <td>Wii</td>\n",
       "      <td>2008.0</td>\n",
       "      <td>Racing</td>\n",
       "      <td>Nintendo</td>\n",
       "      <td>15.68</td>\n",
       "      <td>12.80</td>\n",
       "      <td>3.79</td>\n",
       "      <td>3.29</td>\n",
       "      <td>35.57</td>\n",
       "      <td>82.0</td>\n",
       "      <td>73.0</td>\n",
       "      <td>8.3</td>\n",
       "      <td>712.0</td>\n",
       "      <td>E</td>\n",
       "    </tr>\n",
       "    <tr>\n",
       "      <th>3</th>\n",
       "      <td>Wii Sports Resort</td>\n",
       "      <td>Wii</td>\n",
       "      <td>2009.0</td>\n",
       "      <td>Sports</td>\n",
       "      <td>Nintendo</td>\n",
       "      <td>15.61</td>\n",
       "      <td>10.95</td>\n",
       "      <td>3.28</td>\n",
       "      <td>2.95</td>\n",
       "      <td>32.78</td>\n",
       "      <td>80.0</td>\n",
       "      <td>73.0</td>\n",
       "      <td>8.0</td>\n",
       "      <td>193.0</td>\n",
       "      <td>E</td>\n",
       "    </tr>\n",
       "    <tr>\n",
       "      <th>4</th>\n",
       "      <td>Pokemon Red/Pokemon Blue</td>\n",
       "      <td>G</td>\n",
       "      <td>1996.0</td>\n",
       "      <td>Role-Playing</td>\n",
       "      <td>Nintendo</td>\n",
       "      <td>11.27</td>\n",
       "      <td>8.89</td>\n",
       "      <td>10.22</td>\n",
       "      <td>1.00</td>\n",
       "      <td>31.37</td>\n",
       "      <td>NaN</td>\n",
       "      <td>NaN</td>\n",
       "      <td>NaN</td>\n",
       "      <td>NaN</td>\n",
       "      <td>NaN</td>\n",
       "    </tr>\n",
       "    <tr>\n",
       "      <th>5</th>\n",
       "      <td>Tetris</td>\n",
       "      <td>G</td>\n",
       "      <td>1989.0</td>\n",
       "      <td>Puzzle</td>\n",
       "      <td>Nintendo</td>\n",
       "      <td>23.20</td>\n",
       "      <td>2.26</td>\n",
       "      <td>4.22</td>\n",
       "      <td>0.58</td>\n",
       "      <td>30.26</td>\n",
       "      <td>NaN</td>\n",
       "      <td>NaN</td>\n",
       "      <td>NaN</td>\n",
       "      <td>NaN</td>\n",
       "      <td>NaN</td>\n",
       "    </tr>\n",
       "    <tr>\n",
       "      <th>6</th>\n",
       "      <td>New Super Mario Bros.</td>\n",
       "      <td>DS</td>\n",
       "      <td>2006.0</td>\n",
       "      <td>Platform</td>\n",
       "      <td>Nintendo</td>\n",
       "      <td>11.28</td>\n",
       "      <td>9.15</td>\n",
       "      <td>6.50</td>\n",
       "      <td>2.88</td>\n",
       "      <td>29.81</td>\n",
       "      <td>89.0</td>\n",
       "      <td>65.0</td>\n",
       "      <td>8.5</td>\n",
       "      <td>433.0</td>\n",
       "      <td>E</td>\n",
       "    </tr>\n",
       "    <tr>\n",
       "      <th>7</th>\n",
       "      <td>Wii Play</td>\n",
       "      <td>Wii</td>\n",
       "      <td>2006.0</td>\n",
       "      <td>Misc</td>\n",
       "      <td>Nintendo</td>\n",
       "      <td>13.96</td>\n",
       "      <td>9.18</td>\n",
       "      <td>2.93</td>\n",
       "      <td>2.84</td>\n",
       "      <td>28.92</td>\n",
       "      <td>58.0</td>\n",
       "      <td>41.0</td>\n",
       "      <td>6.6</td>\n",
       "      <td>129.0</td>\n",
       "      <td>E</td>\n",
       "    </tr>\n",
       "    <tr>\n",
       "      <th>8</th>\n",
       "      <td>New Super Mario Bros. Wii</td>\n",
       "      <td>Wii</td>\n",
       "      <td>2009.0</td>\n",
       "      <td>Platform</td>\n",
       "      <td>Nintendo</td>\n",
       "      <td>14.48</td>\n",
       "      <td>6.95</td>\n",
       "      <td>4.70</td>\n",
       "      <td>2.25</td>\n",
       "      <td>28.38</td>\n",
       "      <td>87.0</td>\n",
       "      <td>80.0</td>\n",
       "      <td>8.4</td>\n",
       "      <td>595.0</td>\n",
       "      <td>E</td>\n",
       "    </tr>\n",
       "    <tr>\n",
       "      <th>9</th>\n",
       "      <td>Duck Hunt</td>\n",
       "      <td>NES</td>\n",
       "      <td>1984.0</td>\n",
       "      <td>Shooter</td>\n",
       "      <td>Nintendo</td>\n",
       "      <td>26.93</td>\n",
       "      <td>0.63</td>\n",
       "      <td>0.28</td>\n",
       "      <td>0.47</td>\n",
       "      <td>28.31</td>\n",
       "      <td>NaN</td>\n",
       "      <td>NaN</td>\n",
       "      <td>NaN</td>\n",
       "      <td>NaN</td>\n",
       "      <td>NaN</td>\n",
       "    </tr>\n",
       "  </tbody>\n",
       "</table>\n",
       "</div>"
      ],
      "text/plain": [
       "                        Name Platform  Year_of_Release         Genre  \\\n",
       "0                 Wii Sports      Wii           2006.0        Sports   \n",
       "1          Super Mario Bros.      NES           1985.0      Platform   \n",
       "2             Mario Kart Wii      Wii           2008.0        Racing   \n",
       "3          Wii Sports Resort      Wii           2009.0        Sports   \n",
       "4   Pokemon Red/Pokemon Blue        G           1996.0  Role-Playing   \n",
       "5                     Tetris        G           1989.0        Puzzle   \n",
       "6      New Super Mario Bros.       DS           2006.0      Platform   \n",
       "7                   Wii Play      Wii           2006.0          Misc   \n",
       "8  New Super Mario Bros. Wii      Wii           2009.0      Platform   \n",
       "9                  Duck Hunt      NES           1984.0       Shooter   \n",
       "\n",
       "  Publisher  NA_Sales  EU_Sales  JP_Sales  Other_Sales  Global_Sales  \\\n",
       "0  Nintendo     41.36     28.96      3.77         8.45         82.54   \n",
       "1  Nintendo     29.08      3.58      6.81         0.77         40.24   \n",
       "2  Nintendo     15.68     12.80      3.79         3.29         35.57   \n",
       "3  Nintendo     15.61     10.95      3.28         2.95         32.78   \n",
       "4  Nintendo     11.27      8.89     10.22         1.00         31.37   \n",
       "5  Nintendo     23.20      2.26      4.22         0.58         30.26   \n",
       "6  Nintendo     11.28      9.15      6.50         2.88         29.81   \n",
       "7  Nintendo     13.96      9.18      2.93         2.84         28.92   \n",
       "8  Nintendo     14.48      6.95      4.70         2.25         28.38   \n",
       "9  Nintendo     26.93      0.63      0.28         0.47         28.31   \n",
       "\n",
       "   Critic_Score  Critic_Count  User_Score  User_Count Rating  \n",
       "0          76.0          51.0         8.0       324.0      E  \n",
       "1           NaN           NaN         NaN         NaN    NaN  \n",
       "2          82.0          73.0         8.3       712.0      E  \n",
       "3          80.0          73.0         8.0       193.0      E  \n",
       "4           NaN           NaN         NaN         NaN    NaN  \n",
       "5           NaN           NaN         NaN         NaN    NaN  \n",
       "6          89.0          65.0         8.5       433.0      E  \n",
       "7          58.0          41.0         6.6       129.0      E  \n",
       "8          87.0          80.0         8.4       595.0      E  \n",
       "9           NaN           NaN         NaN         NaN    NaN  "
      ]
     },
     "metadata": {},
     "output_type": "display_data"
    }
   ],
   "source": [
    "df.info()\n",
    "display(df.head(10))"
   ]
  },
  {
   "cell_type": "markdown",
   "id": "bc893617",
   "metadata": {},
   "source": [
    "<div style=\"border:solid steelblue 1px; padding: 20px\">\n",
    "Приведем название столбцов к единому стилю:"
   ]
  },
  {
   "cell_type": "code",
   "execution_count": 5,
   "id": "b519821e",
   "metadata": {},
   "outputs": [
    {
     "data": {
      "text/html": [
       "<div>\n",
       "<style scoped>\n",
       "    .dataframe tbody tr th:only-of-type {\n",
       "        vertical-align: middle;\n",
       "    }\n",
       "\n",
       "    .dataframe tbody tr th {\n",
       "        vertical-align: top;\n",
       "    }\n",
       "\n",
       "    .dataframe thead th {\n",
       "        text-align: right;\n",
       "    }\n",
       "</style>\n",
       "<table border=\"1\" class=\"dataframe\">\n",
       "  <thead>\n",
       "    <tr style=\"text-align: right;\">\n",
       "      <th></th>\n",
       "      <th>name</th>\n",
       "      <th>platform</th>\n",
       "      <th>year_of_release</th>\n",
       "      <th>genre</th>\n",
       "      <th>Publisher</th>\n",
       "      <th>na_sales</th>\n",
       "      <th>eu_sales</th>\n",
       "      <th>jp_sales</th>\n",
       "      <th>other_sales</th>\n",
       "      <th>global_sales</th>\n",
       "      <th>critic_score</th>\n",
       "      <th>critic_count</th>\n",
       "      <th>user_score</th>\n",
       "      <th>user_count</th>\n",
       "      <th>rating</th>\n",
       "    </tr>\n",
       "  </thead>\n",
       "  <tbody>\n",
       "    <tr>\n",
       "      <th>0</th>\n",
       "      <td>Wii Sports</td>\n",
       "      <td>Wii</td>\n",
       "      <td>2006.0</td>\n",
       "      <td>Sports</td>\n",
       "      <td>Nintendo</td>\n",
       "      <td>41.36</td>\n",
       "      <td>28.96</td>\n",
       "      <td>3.77</td>\n",
       "      <td>8.45</td>\n",
       "      <td>82.54</td>\n",
       "      <td>76.0</td>\n",
       "      <td>51.0</td>\n",
       "      <td>8.0</td>\n",
       "      <td>324.0</td>\n",
       "      <td>E</td>\n",
       "    </tr>\n",
       "    <tr>\n",
       "      <th>1</th>\n",
       "      <td>Super Mario Bros.</td>\n",
       "      <td>NES</td>\n",
       "      <td>1985.0</td>\n",
       "      <td>Platform</td>\n",
       "      <td>Nintendo</td>\n",
       "      <td>29.08</td>\n",
       "      <td>3.58</td>\n",
       "      <td>6.81</td>\n",
       "      <td>0.77</td>\n",
       "      <td>40.24</td>\n",
       "      <td>NaN</td>\n",
       "      <td>NaN</td>\n",
       "      <td>NaN</td>\n",
       "      <td>NaN</td>\n",
       "      <td>NaN</td>\n",
       "    </tr>\n",
       "    <tr>\n",
       "      <th>2</th>\n",
       "      <td>Mario Kart Wii</td>\n",
       "      <td>Wii</td>\n",
       "      <td>2008.0</td>\n",
       "      <td>Racing</td>\n",
       "      <td>Nintendo</td>\n",
       "      <td>15.68</td>\n",
       "      <td>12.80</td>\n",
       "      <td>3.79</td>\n",
       "      <td>3.29</td>\n",
       "      <td>35.57</td>\n",
       "      <td>82.0</td>\n",
       "      <td>73.0</td>\n",
       "      <td>8.3</td>\n",
       "      <td>712.0</td>\n",
       "      <td>E</td>\n",
       "    </tr>\n",
       "    <tr>\n",
       "      <th>3</th>\n",
       "      <td>Wii Sports Resort</td>\n",
       "      <td>Wii</td>\n",
       "      <td>2009.0</td>\n",
       "      <td>Sports</td>\n",
       "      <td>Nintendo</td>\n",
       "      <td>15.61</td>\n",
       "      <td>10.95</td>\n",
       "      <td>3.28</td>\n",
       "      <td>2.95</td>\n",
       "      <td>32.78</td>\n",
       "      <td>80.0</td>\n",
       "      <td>73.0</td>\n",
       "      <td>8.0</td>\n",
       "      <td>193.0</td>\n",
       "      <td>E</td>\n",
       "    </tr>\n",
       "    <tr>\n",
       "      <th>4</th>\n",
       "      <td>Pokemon Red/Pokemon Blue</td>\n",
       "      <td>G</td>\n",
       "      <td>1996.0</td>\n",
       "      <td>Role-Playing</td>\n",
       "      <td>Nintendo</td>\n",
       "      <td>11.27</td>\n",
       "      <td>8.89</td>\n",
       "      <td>10.22</td>\n",
       "      <td>1.00</td>\n",
       "      <td>31.37</td>\n",
       "      <td>NaN</td>\n",
       "      <td>NaN</td>\n",
       "      <td>NaN</td>\n",
       "      <td>NaN</td>\n",
       "      <td>NaN</td>\n",
       "    </tr>\n",
       "  </tbody>\n",
       "</table>\n",
       "</div>"
      ],
      "text/plain": [
       "                       name platform  year_of_release         genre Publisher  \\\n",
       "0                Wii Sports      Wii           2006.0        Sports  Nintendo   \n",
       "1         Super Mario Bros.      NES           1985.0      Platform  Nintendo   \n",
       "2            Mario Kart Wii      Wii           2008.0        Racing  Nintendo   \n",
       "3         Wii Sports Resort      Wii           2009.0        Sports  Nintendo   \n",
       "4  Pokemon Red/Pokemon Blue        G           1996.0  Role-Playing  Nintendo   \n",
       "\n",
       "   na_sales  eu_sales  jp_sales  other_sales  global_sales  critic_score  \\\n",
       "0     41.36     28.96      3.77         8.45         82.54          76.0   \n",
       "1     29.08      3.58      6.81         0.77         40.24           NaN   \n",
       "2     15.68     12.80      3.79         3.29         35.57          82.0   \n",
       "3     15.61     10.95      3.28         2.95         32.78          80.0   \n",
       "4     11.27      8.89     10.22         1.00         31.37           NaN   \n",
       "\n",
       "   critic_count  user_score  user_count rating  \n",
       "0          51.0         8.0       324.0      E  \n",
       "1           NaN         NaN         NaN    NaN  \n",
       "2          73.0         8.3       712.0      E  \n",
       "3          73.0         8.0       193.0      E  \n",
       "4           NaN         NaN         NaN    NaN  "
      ]
     },
     "metadata": {},
     "output_type": "display_data"
    }
   ],
   "source": [
    "df=df.rename(columns={'Name':'name','Platform':'platform', 'Year_of_Release':'year_of_release',\n",
    "                     'Genre':'genre','NA_Sales':'na_sales','EU_Sales':'eu_sales','JP_Sales':'jp_sales',\n",
    "                     'Other_Sales':'other_sales','Global_Sales':'global_sales','Critic_Score':'critic_score','User_Score':'user_score','Rating':'rating',\n",
    "                     'Critic_Count':'critic_count','User_Count':'user_count'})\n",
    "display(df.head())"
   ]
  },
  {
   "cell_type": "markdown",
   "id": "3153de23",
   "metadata": {},
   "source": [
    "<div style=\"border:solid steelblue 1px; padding: 20px\">\n",
    "Проверим на дубликаты:"
   ]
  },
  {
   "cell_type": "code",
   "execution_count": 6,
   "id": "21e8cca9",
   "metadata": {},
   "outputs": [
    {
     "data": {
      "text/plain": [
       "0"
      ]
     },
     "execution_count": 6,
     "metadata": {},
     "output_type": "execute_result"
    }
   ],
   "source": [
    "df.duplicated().sum()"
   ]
  },
  {
   "cell_type": "markdown",
   "id": "cdf947dd",
   "metadata": {},
   "source": [
    "<div style=\"border:solid steelblue 1px; padding: 20px\">\n",
    "Приведем первичный анализ:"
   ]
  },
  {
   "cell_type": "code",
   "execution_count": 7,
   "id": "f32bc30b",
   "metadata": {
    "scrolled": true
   },
   "outputs": [
    {
     "name": "stdout",
     "output_type": "stream",
     "text": [
      "рейтинг от организации ESRB: ['E' nan 'M' 'T' 'E10+' 'K-A' 'AO' 'EC' 'RP']\n",
      "\n",
      "Размер дата-сета составляет 17416\n",
      "\n",
      "в столбце year_of_release находится 8 пропусков, что составляет 0.05% от всех значений\n",
      "в столбце Publisher находится 1 пропусков, что составляет 0.01% от всех значений\n",
      "в столбце critic_score находится 9080 пропусков, что составляет 52.14% от всех значений\n",
      "в столбце critic_count находится 9080 пропусков, что составляет 52.14% от всех значений\n",
      "в столбце user_score находится 9618 пропусков, что составляет 55.23% от всех значений\n",
      "в столбце user_count находится 9618 пропусков, что составляет 55.23% от всех значений\n",
      "в столбце rating находится 7164 пропусков, что составляет 41.13% от всех значений\n"
     ]
    }
   ],
   "source": [
    "count_row=df.shape[0]\n",
    "\n",
    "rating1=df['rating'].unique()\n",
    "\n",
    "print(f'рейтинг от организации ESRB: {rating1}')\n",
    "print()\n",
    "print(f'Размер дата-сета составляет {count_row}')  \n",
    "print()\n",
    "for i in df.columns:\n",
    "        if df[i].isna().sum() > 0:\n",
    "           count_na= df[i].isna().sum()\n",
    "           print(f'в столбце {i} находится {count_na} пропусков, что составляет {count_na/count_row :.2%} от всех значений')"
   ]
  },
  {
   "cell_type": "markdown",
   "id": "c76bcc90",
   "metadata": {},
   "source": [
    "<div style=\"border:solid steelblue 1px; padding: 20px\">\n",
    "В полученных данных наблюдаются пропуски (результаты первичного анализа см выше), которые мы последовательно рассмотрим далее <br /> \n",
    "Название столбцов было приведено к общему стилю<br /> "
   ]
  },
  {
   "cell_type": "markdown",
   "id": "6d029ffe",
   "metadata": {},
   "source": [
    "\n",
    "## ПОДГОТОВКА ДАННЫХ"
   ]
  },
  {
   "cell_type": "markdown",
   "id": "ec6cfaf1",
   "metadata": {},
   "source": [
    "<div style=\"border:solid steelblue 1px; padding: 20px\">\n",
    " После первично анализа предлагается:<br />\n",
    " * Удалены строки с пропуском года выпуска (т.к. их меньше 1%). Значение переведено в целочисленное значение<br />\n",
    " Т.к. замена оценок на медиану даже внутри платформы искажает картину, то:  <br /> \n",
    " * в оценках (пользователей и критиков) и их количестве пропуски заменены на -1 (в анализе будут исключены).<br />\n",
    " * значения переведены в численное и целочисленное значение соответственно. <br />\n",
    " * В количественном параметре пропуски заменим на NOT!, что бы не упустить игры без рейтинга.<br />\n",
    "<br /> \n",
    "Почему появились пропуски:<br />\n",
    "    1) Механическая ошибка/сбой ситемы<br />\n",
    "    2) Данных чисто физически нет. Напимер: очень старая игра, или не было опросов относительно неё<br />\n",
    "    3) Рейтинг выставляет американская служба и она не смогла/не было необходимости проанализировать игру<br />"
   ]
  },
  {
   "cell_type": "markdown",
   "id": "330ee959",
   "metadata": {},
   "source": [
    "<div style=\"border:solid steelblue 1px; padding: 20px\">\n",
    "Причина отказа от замены медианными/средними значениями:<br />\n",
    "игравая индустрия очень динамично развивающийся сектор бизнеса и горизонт планирования достаточно короткий.<br /> Похожую картину можно наблюдать например в автобизнесе. Данные с пропусками в цене для машин в 2005-2007 года нельзя заполнить их средними основываясь на данных 2020-2021."
   ]
  },
  {
   "cell_type": "code",
   "execution_count": 8,
   "id": "d86f19fe",
   "metadata": {
    "scrolled": false
   },
   "outputs": [
    {
     "name": "stdout",
     "output_type": "stream",
     "text": [
      "year_of_release\n",
      "пустых значений в year_of_release : 0\n",
      "critic_score\n",
      "пустых значений в critic_score : 0\n",
      "user_score\n",
      "пустых значений в user_score : 0\n",
      "critic_count\n",
      "пустых значений в critic_count : 0\n",
      "user_count\n",
      "пустых значений в user_count : 0\n",
      "rating\n",
      "пустых значений в genre : 0\n",
      "\n"
     ]
    }
   ],
   "source": [
    "#1-------------------------------------------------\n",
    "print('year_of_release')\n",
    "df = df.dropna(subset=['year_of_release']).reset_index(drop=True)\n",
    "df['year_of_release']=df['year_of_release'].astype('int')\n",
    "null1=df['name'].isna().sum()\n",
    "print(f'пустых значений в year_of_release : {null1}')\n",
    "#1-------------------------------------------------\n",
    "#2-------------------------------------------------\n",
    "print('critic_score')\n",
    "df['critic_score']=df['critic_score'].fillna(-1)\n",
    "df['critic_score']=df['critic_score'].astype('int')\n",
    "null1=df['critic_score'].isna().sum()\n",
    "print(f'пустых значений в critic_score : {null1}')\n",
    "#2-------------------------------------------------\n",
    "#3-------------------------------------------------\n",
    "print('user_score')\n",
    "df['user_score']=df['user_score'].fillna(-1)\n",
    "df['user_score']=pd.to_numeric(df['user_score'], errors='ignore')\n",
    "null1=df['user_score'].isna().sum()\n",
    "print(f'пустых значений в user_score : {null1}')\n",
    "#3------------------------------------------------\n",
    "#4------------------------------------------------\n",
    "print('critic_count')\n",
    "df['critic_count']=df['critic_count'].fillna(-1)\n",
    "df['critic_count']=df['critic_count'].astype('int')\n",
    "null1=df['critic_score'].isna().sum()\n",
    "print(f'пустых значений в critic_count : {null1}')\n",
    "#4------------------------------------------------\n",
    "#5------------------------------------------------\n",
    "print('user_count')\n",
    "df['user_count']=df['user_count'].fillna(-1)\n",
    "df['user_count']=df['user_count'].astype('int')\n",
    "null1=df['critic_score'].isna().sum()\n",
    "print(f'пустых значений в user_count : {null1}')\n",
    "#5------------------------------------------------\n",
    "#6------------------------------------------------\n",
    "print('rating')\n",
    "df['rating']=df['rating'].fillna('NOT!')\n",
    "null1=df['critic_score'].isna().sum()\n",
    "print(f'пустых значений в genre : {null1}')\n",
    "print()\n",
    "#6------------------------------------------------"
   ]
  },
  {
   "cell_type": "markdown",
   "id": "300c21ee",
   "metadata": {},
   "source": [
    "## ИССЛЕДОВАТЕЛЬСКИЙ АНАЛИЗ ДАННЫХ"
   ]
  },
  {
   "cell_type": "markdown",
   "id": "f23f5ce9",
   "metadata": {},
   "source": [
    "### АНАЛИЗ ВСЕЙ БАЗЫ ДАННЫХ"
   ]
  },
  {
   "cell_type": "markdown",
   "id": "081e3c69",
   "metadata": {},
   "source": [
    "<div style=\"border:solid steelblue 1px; padding: 20px\">\n",
    "Посмотрим сколько игр выпускалось в разные годы"
   ]
  },
  {
   "cell_type": "code",
   "execution_count": 9,
   "id": "9497d213",
   "metadata": {},
   "outputs": [
    {
     "data": {
      "text/html": [
       "<div>\n",
       "<style scoped>\n",
       "    .dataframe tbody tr th:only-of-type {\n",
       "        vertical-align: middle;\n",
       "    }\n",
       "\n",
       "    .dataframe tbody tr th {\n",
       "        vertical-align: top;\n",
       "    }\n",
       "\n",
       "    .dataframe thead th {\n",
       "        text-align: right;\n",
       "    }\n",
       "</style>\n",
       "<table border=\"1\" class=\"dataframe\">\n",
       "  <thead>\n",
       "    <tr style=\"text-align: right;\">\n",
       "      <th></th>\n",
       "      <th>count</th>\n",
       "    </tr>\n",
       "    <tr>\n",
       "      <th>year_of_release</th>\n",
       "      <th></th>\n",
       "    </tr>\n",
       "  </thead>\n",
       "  <tbody>\n",
       "    <tr>\n",
       "      <th>2009</th>\n",
       "      <td>1550</td>\n",
       "    </tr>\n",
       "    <tr>\n",
       "      <th>2008</th>\n",
       "      <td>1536</td>\n",
       "    </tr>\n",
       "    <tr>\n",
       "      <th>2010</th>\n",
       "      <td>1331</td>\n",
       "    </tr>\n",
       "    <tr>\n",
       "      <th>2007</th>\n",
       "      <td>1262</td>\n",
       "    </tr>\n",
       "    <tr>\n",
       "      <th>2011</th>\n",
       "      <td>1215</td>\n",
       "    </tr>\n",
       "  </tbody>\n",
       "</table>\n",
       "</div>"
      ],
      "text/plain": [
       "                 count\n",
       "year_of_release       \n",
       "2009              1550\n",
       "2008              1536\n",
       "2010              1331\n",
       "2007              1262\n",
       "2011              1215"
      ]
     },
     "metadata": {},
     "output_type": "display_data"
    },
    {
     "data": {
      "image/png": "[encoded data removed]",
      "text/plain": [
       "<Figure size 640x480 with 1 Axes>"
      ]
     },
     "metadata": {},
     "output_type": "display_data"
    }
   ],
   "source": [
    "sales_year=df.groupby(by=['year_of_release'])['name'].agg(['count'])\n",
    "display(sales_year.sort_values(by='count',ascending=False).head())\n",
    "df['year_of_release'].hist(bins=25)\n",
    "plt.show()"
   ]
  },
  {
   "cell_type": "markdown",
   "id": "b08595f8",
   "metadata": {},
   "source": [
    "<div style=\"border:solid steelblue 1px; padding: 20px\">\n",
    "Число продаж резко увеличилось начиная где-то с 2003 года. Максимальное число продаж пришлось на 2007 год."
   ]
  },
  {
   "cell_type": "markdown",
   "id": "09a153ec",
   "metadata": {},
   "source": [
    "<div style=\"border:solid steelblue 1px; padding: 20px\">\n",
    "Посмотрим как менялись продажи по платформам. Выберем платформы с наибольшими суммарными продажами и построим распределение по годам.   "
   ]
  },
  {
   "cell_type": "code",
   "execution_count": 10,
   "id": "5c07e54a",
   "metadata": {},
   "outputs": [
    {
     "data": {
      "text/html": [
       "<div>\n",
       "<style scoped>\n",
       "    .dataframe tbody tr th:only-of-type {\n",
       "        vertical-align: middle;\n",
       "    }\n",
       "\n",
       "    .dataframe tbody tr th {\n",
       "        vertical-align: top;\n",
       "    }\n",
       "\n",
       "    .dataframe thead th {\n",
       "        text-align: right;\n",
       "    }\n",
       "</style>\n",
       "<table border=\"1\" class=\"dataframe\">\n",
       "  <thead>\n",
       "    <tr style=\"text-align: right;\">\n",
       "      <th></th>\n",
       "      <th>sum</th>\n",
       "    </tr>\n",
       "    <tr>\n",
       "      <th>platform</th>\n",
       "      <th></th>\n",
       "    </tr>\n",
       "  </thead>\n",
       "  <tbody>\n",
       "    <tr>\n",
       "      <th>PS2</th>\n",
       "      <td>1256.09</td>\n",
       "    </tr>\n",
       "    <tr>\n",
       "      <th>X360</th>\n",
       "      <td>975.43</td>\n",
       "    </tr>\n",
       "    <tr>\n",
       "      <th>PS3</th>\n",
       "      <td>943.29</td>\n",
       "    </tr>\n",
       "    <tr>\n",
       "      <th>Wii</th>\n",
       "      <td>910.14</td>\n",
       "    </tr>\n",
       "    <tr>\n",
       "      <th>DS</th>\n",
       "      <td>808.82</td>\n",
       "    </tr>\n",
       "  </tbody>\n",
       "</table>\n",
       "</div>"
      ],
      "text/plain": [
       "              sum\n",
       "platform         \n",
       "PS2       1256.09\n",
       "X360       975.43\n",
       "PS3        943.29\n",
       "Wii        910.14\n",
       "DS         808.82"
      ]
     },
     "metadata": {},
     "output_type": "display_data"
    }
   ],
   "source": [
    "df_platform=df.groupby(by=['platform'])['global_sales'].agg(['sum']).sort_values(by='sum', ascending=False)\n",
    "display(df_platform.head())"
   ]
  },
  {
   "cell_type": "code",
   "execution_count": 11,
   "id": "a74ae37d",
   "metadata": {},
   "outputs": [
    {
     "name": "stdout",
     "output_type": "stream",
     "text": [
      " гистограмма(суммамраня выручка по годам) для платформы PS2\n"
     ]
    },
    {
     "data": {
      "image/png": "[encoded data removed]",
      "text/plain": [
       "<Figure size 640x480 with 1 Axes>"
      ]
     },
     "metadata": {},
     "output_type": "display_data"
    },
    {
     "name": "stdout",
     "output_type": "stream",
     "text": [
      " гистограмма(суммамраня выручка по годам) для платформы X360\n"
     ]
    },
    {
     "data": {
      "image/png": "[encoded data removed]",
      "text/plain": [
       "<Figure size 640x480 with 1 Axes>"
      ]
     },
     "metadata": {},
     "output_type": "display_data"
    },
    {
     "name": "stdout",
     "output_type": "stream",
     "text": [
      " гистограмма(суммамраня выручка по годам) для платформы PS3\n"
     ]
    },
    {
     "data": {
      "image/png": "[encoded data removed]",
      "text/plain": [
       "<Figure size 640x480 with 1 Axes>"
      ]
     },
     "metadata": {},
     "output_type": "display_data"
    },
    {
     "name": "stdout",
     "output_type": "stream",
     "text": [
      " гистограмма(суммамраня выручка по годам) для платформы Wii\n"
     ]
    },
    {
     "data": {
      "image/png": "[encoded data removed]",
      "text/plain": [
       "<Figure size 640x480 with 1 Axes>"
      ]
     },
     "metadata": {},
     "output_type": "display_data"
    },
    {
     "name": "stdout",
     "output_type": "stream",
     "text": [
      " гистограмма(суммамраня выручка по годам) для платформы DS\n"
     ]
    },
    {
     "data": {
      "image/png": "[encoded data removed]",
      "text/plain": [
       "<Figure size 640x480 with 1 Axes>"
      ]
     },
     "metadata": {},
     "output_type": "display_data"
    }
   ],
   "source": [
    "for i in range(5):\n",
    "    name=df_platform.index[i]\n",
    "    print(f' гистограмма(суммамраня выручка по годам) для платформы {name}')\n",
    "    temp=df.query('platform == @name').groupby(by=['year_of_release'])['global_sales'].agg(['sum'])\n",
    "    plt.bar(temp.index,temp['sum'])\n",
    "    plt.show()"
   ]
  },
  {
   "cell_type": "markdown",
   "id": "f03fd387",
   "metadata": {},
   "source": [
    "<div style=\"border:solid steelblue 1px; padding: 20px\">\n",
    "Средний срок жизни платформы где то 10-11 лет. Пик продаж приходится примерно на середину цикла жизни платформы. Анализируемая индустрия быстро развивается поэтому возьмем актуальный период в 3 года.<br /> \n",
    " Далее будем проводить анализ только для актуального периода."
   ]
  },
  {
   "cell_type": "markdown",
   "id": "da9c8551",
   "metadata": {},
   "source": [
    "###  АНАЛИЗ ДАННЫХ АКТУАЛЬНОГО ПЕРИОДА"
   ]
  },
  {
   "cell_type": "code",
   "execution_count": 12,
   "id": "4590adbd",
   "metadata": {},
   "outputs": [
    {
     "data": {
      "text/html": [
       "<div>\n",
       "<style scoped>\n",
       "    .dataframe tbody tr th:only-of-type {\n",
       "        vertical-align: middle;\n",
       "    }\n",
       "\n",
       "    .dataframe tbody tr th {\n",
       "        vertical-align: top;\n",
       "    }\n",
       "\n",
       "    .dataframe thead th {\n",
       "        text-align: right;\n",
       "    }\n",
       "</style>\n",
       "<table border=\"1\" class=\"dataframe\">\n",
       "  <thead>\n",
       "    <tr style=\"text-align: right;\">\n",
       "      <th></th>\n",
       "      <th>name</th>\n",
       "      <th>platform</th>\n",
       "      <th>year_of_release</th>\n",
       "      <th>genre</th>\n",
       "      <th>Publisher</th>\n",
       "      <th>na_sales</th>\n",
       "      <th>eu_sales</th>\n",
       "      <th>jp_sales</th>\n",
       "      <th>other_sales</th>\n",
       "      <th>global_sales</th>\n",
       "      <th>critic_score</th>\n",
       "      <th>critic_count</th>\n",
       "      <th>user_score</th>\n",
       "      <th>user_count</th>\n",
       "      <th>rating</th>\n",
       "    </tr>\n",
       "  </thead>\n",
       "  <tbody>\n",
       "    <tr>\n",
       "      <th>0</th>\n",
       "      <td>Call of Duty: Black Ops 3</td>\n",
       "      <td>PS4</td>\n",
       "      <td>2015</td>\n",
       "      <td>Shooter</td>\n",
       "      <td>Activision</td>\n",
       "      <td>6.08</td>\n",
       "      <td>5.95</td>\n",
       "      <td>0.36</td>\n",
       "      <td>2.41</td>\n",
       "      <td>14.80</td>\n",
       "      <td>-1</td>\n",
       "      <td>-1</td>\n",
       "      <td>-1.0</td>\n",
       "      <td>-1</td>\n",
       "      <td>NOT!</td>\n",
       "    </tr>\n",
       "    <tr>\n",
       "      <th>1</th>\n",
       "      <td>Grand Theft Auto V</td>\n",
       "      <td>PS4</td>\n",
       "      <td>2014</td>\n",
       "      <td>Action</td>\n",
       "      <td>Take-Two Interactive</td>\n",
       "      <td>4.12</td>\n",
       "      <td>6.77</td>\n",
       "      <td>0.39</td>\n",
       "      <td>2.08</td>\n",
       "      <td>13.36</td>\n",
       "      <td>97</td>\n",
       "      <td>66</td>\n",
       "      <td>8.3</td>\n",
       "      <td>2955</td>\n",
       "      <td>M</td>\n",
       "    </tr>\n",
       "    <tr>\n",
       "      <th>2</th>\n",
       "      <td>Pokemon Omega Ruby/Pokemon Alpha Sapphire</td>\n",
       "      <td>3DS</td>\n",
       "      <td>2014</td>\n",
       "      <td>Role-Playing</td>\n",
       "      <td>Nintendo</td>\n",
       "      <td>4.45</td>\n",
       "      <td>3.64</td>\n",
       "      <td>3.10</td>\n",
       "      <td>0.76</td>\n",
       "      <td>11.95</td>\n",
       "      <td>-1</td>\n",
       "      <td>-1</td>\n",
       "      <td>-1.0</td>\n",
       "      <td>-1</td>\n",
       "      <td>NOT!</td>\n",
       "    </tr>\n",
       "    <tr>\n",
       "      <th>3</th>\n",
       "      <td>Pokemon Sun/Moon</td>\n",
       "      <td>3DS</td>\n",
       "      <td>2016</td>\n",
       "      <td>Role-Playing</td>\n",
       "      <td>Nintendo</td>\n",
       "      <td>5.01</td>\n",
       "      <td>2.74</td>\n",
       "      <td>2.88</td>\n",
       "      <td>0.77</td>\n",
       "      <td>11.40</td>\n",
       "      <td>-1</td>\n",
       "      <td>-1</td>\n",
       "      <td>-1.0</td>\n",
       "      <td>-1</td>\n",
       "      <td>NOT!</td>\n",
       "    </tr>\n",
       "    <tr>\n",
       "      <th>4</th>\n",
       "      <td>FIFA 17</td>\n",
       "      <td>PS4</td>\n",
       "      <td>2016</td>\n",
       "      <td>Sports</td>\n",
       "      <td>Electronic Arts</td>\n",
       "      <td>0.90</td>\n",
       "      <td>6.75</td>\n",
       "      <td>0.09</td>\n",
       "      <td>1.33</td>\n",
       "      <td>9.07</td>\n",
       "      <td>85</td>\n",
       "      <td>41</td>\n",
       "      <td>4.9</td>\n",
       "      <td>442</td>\n",
       "      <td>E</td>\n",
       "    </tr>\n",
       "  </tbody>\n",
       "</table>\n",
       "</div>"
      ],
      "text/plain": [
       "                                        name platform  year_of_release  \\\n",
       "0                  Call of Duty: Black Ops 3      PS4             2015   \n",
       "1                         Grand Theft Auto V      PS4             2014   \n",
       "2  Pokemon Omega Ruby/Pokemon Alpha Sapphire      3DS             2014   \n",
       "3                           Pokemon Sun/Moon      3DS             2016   \n",
       "4                                    FIFA 17      PS4             2016   \n",
       "\n",
       "          genre             Publisher  na_sales  eu_sales  jp_sales  \\\n",
       "0       Shooter            Activision      6.08      5.95      0.36   \n",
       "1        Action  Take-Two Interactive      4.12      6.77      0.39   \n",
       "2  Role-Playing              Nintendo      4.45      3.64      3.10   \n",
       "3  Role-Playing              Nintendo      5.01      2.74      2.88   \n",
       "4        Sports       Electronic Arts      0.90      6.75      0.09   \n",
       "\n",
       "   other_sales  global_sales  critic_score  critic_count  user_score  \\\n",
       "0         2.41         14.80            -1            -1        -1.0   \n",
       "1         2.08         13.36            97            66         8.3   \n",
       "2         0.76         11.95            -1            -1        -1.0   \n",
       "3         0.77         11.40            -1            -1        -1.0   \n",
       "4         1.33          9.07            85            41         4.9   \n",
       "\n",
       "   user_count rating  \n",
       "0          -1   NOT!  \n",
       "1        2955      M  \n",
       "2          -1   NOT!  \n",
       "3          -1   NOT!  \n",
       "4         442      E  "
      ]
     },
     "metadata": {},
     "output_type": "display_data"
    }
   ],
   "source": [
    "df_actual=df.query('year_of_release>=2014').reset_index(drop=True)\n",
    "display(df_actual.head())"
   ]
  },
  {
   "cell_type": "markdown",
   "id": "2f55bc67",
   "metadata": {},
   "source": [
    "#### ПЛАТФОРМЫ И ПРОДАЖИ"
   ]
  },
  {
   "cell_type": "markdown",
   "id": "e905c9bf",
   "metadata": {},
   "source": [
    "<div style=\"border:solid steelblue 1px; padding: 20px\">\n",
    "Проанализируем платформы за актуальный период:"
   ]
  },
  {
   "cell_type": "code",
   "execution_count": 13,
   "id": "bf1df81c",
   "metadata": {},
   "outputs": [
    {
     "name": "stdout",
     "output_type": "stream",
     "text": [
      "Лидеры продаж:\n"
     ]
    },
    {
     "data": {
      "text/html": [
       "<div>\n",
       "<style scoped>\n",
       "    .dataframe tbody tr th:only-of-type {\n",
       "        vertical-align: middle;\n",
       "    }\n",
       "\n",
       "    .dataframe tbody tr th {\n",
       "        vertical-align: top;\n",
       "    }\n",
       "\n",
       "    .dataframe thead th {\n",
       "        text-align: right;\n",
       "    }\n",
       "</style>\n",
       "<table border=\"1\" class=\"dataframe\">\n",
       "  <thead>\n",
       "    <tr style=\"text-align: right;\">\n",
       "      <th></th>\n",
       "      <th>sum</th>\n",
       "    </tr>\n",
       "    <tr>\n",
       "      <th>platform</th>\n",
       "      <th></th>\n",
       "    </tr>\n",
       "  </thead>\n",
       "  <tbody>\n",
       "    <tr>\n",
       "      <th>PS4</th>\n",
       "      <td>314.74</td>\n",
       "    </tr>\n",
       "    <tr>\n",
       "      <th>XOne</th>\n",
       "      <td>154.70</td>\n",
       "    </tr>\n",
       "    <tr>\n",
       "      <th>3DS</th>\n",
       "      <td>96.00</td>\n",
       "    </tr>\n",
       "    <tr>\n",
       "      <th>PS3</th>\n",
       "      <td>70.50</td>\n",
       "    </tr>\n",
       "    <tr>\n",
       "      <th>X360</th>\n",
       "      <td>50.30</td>\n",
       "    </tr>\n",
       "  </tbody>\n",
       "</table>\n",
       "</div>"
      ],
      "text/plain": [
       "             sum\n",
       "platform        \n",
       "PS4       314.74\n",
       "XOne      154.70\n",
       "3DS        96.00\n",
       "PS3        70.50\n",
       "X360       50.30"
      ]
     },
     "metadata": {},
     "output_type": "display_data"
    }
   ],
   "source": [
    "df_platform_actual=df_actual.groupby(by=['platform'])['global_sales'].agg(['sum']).sort_values(by='sum', ascending=False)\n",
    "print('Лидеры продаж:')\n",
    "display(df_platform_actual.head())"
   ]
  },
  {
   "cell_type": "code",
   "execution_count": 14,
   "id": "31a09553",
   "metadata": {},
   "outputs": [
    {
     "name": "stdout",
     "output_type": "stream",
     "text": [
      " гистограмма(суммамраня выручка по годам) для платформы PS4\n"
     ]
    },
    {
     "data": {
      "image/png": "[encoded data removed]",
      "text/plain": [
       "<Figure size 640x480 with 1 Axes>"
      ]
     },
     "metadata": {},
     "output_type": "display_data"
    },
    {
     "name": "stdout",
     "output_type": "stream",
     "text": [
      " гистограмма(суммамраня выручка по годам) для платформы XOne\n"
     ]
    },
    {
     "data": {
      "image/png": "[encoded data removed]",
      "text/plain": [
       "<Figure size 640x480 with 1 Axes>"
      ]
     },
     "metadata": {},
     "output_type": "display_data"
    },
    {
     "name": "stdout",
     "output_type": "stream",
     "text": [
      " гистограмма(суммамраня выручка по годам) для платформы 3DS\n"
     ]
    },
    {
     "data": {
      "image/png": "[encoded data removed]",
      "text/plain": [
       "<Figure size 640x480 with 1 Axes>"
      ]
     },
     "metadata": {},
     "output_type": "display_data"
    },
    {
     "name": "stdout",
     "output_type": "stream",
     "text": [
      " гистограмма(суммамраня выручка по годам) для платформы PS3\n"
     ]
    },
    {
     "data": {
      "image/png": "[encoded data removed]",
      "text/plain": [
       "<Figure size 640x480 with 1 Axes>"
      ]
     },
     "metadata": {},
     "output_type": "display_data"
    },
    {
     "name": "stdout",
     "output_type": "stream",
     "text": [
      " гистограмма(суммамраня выручка по годам) для платформы X360\n"
     ]
    },
    {
     "data": {
      "image/png": "[encoded data removed]",
      "text/plain": [
       "<Figure size 640x480 with 1 Axes>"
      ]
     },
     "metadata": {},
     "output_type": "display_data"
    },
    {
     "name": "stdout",
     "output_type": "stream",
     "text": [
      " гистограмма(суммамраня выручка по годам) для платформы WiiU\n"
     ]
    },
    {
     "data": {
      "image/png": "[encoded data removed]",
      "text/plain": [
       "<Figure size 640x480 with 1 Axes>"
      ]
     },
     "metadata": {},
     "output_type": "display_data"
    },
    {
     "name": "stdout",
     "output_type": "stream",
     "text": [
      " гистограмма(суммамраня выручка по годам) для платформы PC\n"
     ]
    },
    {
     "data": {
      "image/png": "[encoded data removed]",
      "text/plain": [
       "<Figure size 640x480 with 1 Axes>"
      ]
     },
     "metadata": {},
     "output_type": "display_data"
    },
    {
     "name": "stdout",
     "output_type": "stream",
     "text": [
      " гистограмма(суммамраня выручка по годам) для платформы PSV\n"
     ]
    },
    {
     "data": {
      "image/png": "[encoded data removed]",
      "text/plain": [
       "<Figure size 640x480 with 1 Axes>"
      ]
     },
     "metadata": {},
     "output_type": "display_data"
    },
    {
     "name": "stdout",
     "output_type": "stream",
     "text": [
      " гистограмма(суммамраня выручка по годам) для платформы Wii\n"
     ]
    },
    {
     "data": {
      "image/png": "[encoded data removed]",
      "text/plain": [
       "<Figure size 640x480 with 1 Axes>"
      ]
     },
     "metadata": {},
     "output_type": "display_data"
    },
    {
     "name": "stdout",
     "output_type": "stream",
     "text": [
      " гистограмма(суммамраня выручка по годам) для платформы PSP\n"
     ]
    },
    {
     "data": {
      "image/png": "[encoded data removed]",
      "text/plain": [
       "<Figure size 640x480 with 1 Axes>"
      ]
     },
     "metadata": {},
     "output_type": "display_data"
    },
    {
     "name": "stdout",
     "output_type": "stream",
     "text": [
      " гистограмма(суммамраня выручка по годам) для платформы DS\n"
     ]
    },
    {
     "data": {
      "image/png": "[encoded data removed]",
      "text/plain": [
       "<Figure size 640x480 with 1 Axes>"
      ]
     },
     "metadata": {},
     "output_type": "display_data"
    }
   ],
   "source": [
    "for i in range(len(df_platform_actual)):\n",
    "    name=df_platform_actual.index[i]\n",
    "    print(f' гистограмма(суммамраня выручка по годам) для платформы {name}')\n",
    "    temp=df_actual.query('platform == @name').groupby(by=['year_of_release'])['global_sales'].agg(['sum'])\n",
    "    plt.bar(temp.index,temp['sum'])\n",
    "    plt.show()"
   ]
  },
  {
   "cell_type": "markdown",
   "id": "2101e7b6",
   "metadata": {},
   "source": [
    "<div style=\"border:solid steelblue 1px; padding: 20px\">\n",
    "По продажам лидируют платформы PS4, XOne, 3DS. Платформы такие как PS4 и XOne растут и потенциально прибыльные. Продажи по таким платформам как PC,Wii,PS3,X360,PSV  и т.д. убывают"
   ]
  },
  {
   "cell_type": "markdown",
   "id": "74af923e",
   "metadata": {},
   "source": [
    "<div style=\"border:solid steelblue 1px; padding: 20px\">\n",
    "Построим график «ящик с усами» по глобальным продажам игр в разбивке по платформам."
   ]
  },
  {
   "cell_type": "code",
   "execution_count": 15,
   "id": "69d8ee08",
   "metadata": {},
   "outputs": [
    {
     "data": {
      "image/png": "[encoded data removed]",
      "text/plain": [
       "<Figure size 640x480 with 1 Axes>"
      ]
     },
     "metadata": {},
     "output_type": "display_data"
    },
    {
     "data": {
      "text/html": [
       "<div>\n",
       "<style scoped>\n",
       "    .dataframe tbody tr th:only-of-type {\n",
       "        vertical-align: middle;\n",
       "    }\n",
       "\n",
       "    .dataframe tbody tr th {\n",
       "        vertical-align: top;\n",
       "    }\n",
       "\n",
       "    .dataframe thead th {\n",
       "        text-align: right;\n",
       "    }\n",
       "</style>\n",
       "<table border=\"1\" class=\"dataframe\">\n",
       "  <thead>\n",
       "    <tr style=\"text-align: right;\">\n",
       "      <th></th>\n",
       "      <th>PS4</th>\n",
       "      <th>XOne</th>\n",
       "      <th>3DS</th>\n",
       "      <th>PS3</th>\n",
       "      <th>X360</th>\n",
       "      <th>WiiU</th>\n",
       "      <th>PC</th>\n",
       "      <th>PSV</th>\n",
       "      <th>Wii</th>\n",
       "      <th>PSP</th>\n",
       "      <th>DS</th>\n",
       "    </tr>\n",
       "    <tr>\n",
       "      <th>year_of_release</th>\n",
       "      <th></th>\n",
       "      <th></th>\n",
       "      <th></th>\n",
       "      <th></th>\n",
       "      <th></th>\n",
       "      <th></th>\n",
       "      <th></th>\n",
       "      <th></th>\n",
       "      <th></th>\n",
       "      <th></th>\n",
       "      <th></th>\n",
       "    </tr>\n",
       "  </thead>\n",
       "  <tbody>\n",
       "    <tr>\n",
       "      <th>2014</th>\n",
       "      <td>102.05</td>\n",
       "      <td>55.44</td>\n",
       "      <td>44.59</td>\n",
       "      <td>48.27</td>\n",
       "      <td>35.15</td>\n",
       "      <td>22.45</td>\n",
       "      <td>13.81</td>\n",
       "      <td>12.42</td>\n",
       "      <td>3.78</td>\n",
       "      <td>0.40</td>\n",
       "      <td>0.02</td>\n",
       "    </tr>\n",
       "    <tr>\n",
       "      <th>2015</th>\n",
       "      <td>122.10</td>\n",
       "      <td>62.34</td>\n",
       "      <td>29.06</td>\n",
       "      <td>17.57</td>\n",
       "      <td>12.76</td>\n",
       "      <td>16.97</td>\n",
       "      <td>9.18</td>\n",
       "      <td>6.90</td>\n",
       "      <td>1.26</td>\n",
       "      <td>0.13</td>\n",
       "      <td>NaN</td>\n",
       "    </tr>\n",
       "    <tr>\n",
       "      <th>2016</th>\n",
       "      <td>90.55</td>\n",
       "      <td>36.92</td>\n",
       "      <td>22.35</td>\n",
       "      <td>4.66</td>\n",
       "      <td>2.39</td>\n",
       "      <td>5.79</td>\n",
       "      <td>7.05</td>\n",
       "      <td>5.53</td>\n",
       "      <td>0.69</td>\n",
       "      <td>NaN</td>\n",
       "      <td>NaN</td>\n",
       "    </tr>\n",
       "    <tr>\n",
       "      <th>2017</th>\n",
       "      <td>0.04</td>\n",
       "      <td>NaN</td>\n",
       "      <td>NaN</td>\n",
       "      <td>NaN</td>\n",
       "      <td>NaN</td>\n",
       "      <td>NaN</td>\n",
       "      <td>NaN</td>\n",
       "      <td>0.06</td>\n",
       "      <td>NaN</td>\n",
       "      <td>NaN</td>\n",
       "      <td>NaN</td>\n",
       "    </tr>\n",
       "  </tbody>\n",
       "</table>\n",
       "</div>"
      ],
      "text/plain": [
       "                    PS4   XOne    3DS    PS3   X360   WiiU     PC    PSV  \\\n",
       "year_of_release                                                            \n",
       "2014             102.05  55.44  44.59  48.27  35.15  22.45  13.81  12.42   \n",
       "2015             122.10  62.34  29.06  17.57  12.76  16.97   9.18   6.90   \n",
       "2016              90.55  36.92  22.35   4.66   2.39   5.79   7.05   5.53   \n",
       "2017               0.04    NaN    NaN    NaN    NaN    NaN    NaN   0.06   \n",
       "\n",
       "                  Wii   PSP    DS  \n",
       "year_of_release                    \n",
       "2014             3.78  0.40  0.02  \n",
       "2015             1.26  0.13   NaN  \n",
       "2016             0.69   NaN   NaN  \n",
       "2017              NaN   NaN   NaN  "
      ]
     },
     "metadata": {},
     "output_type": "display_data"
    }
   ],
   "source": [
    "name_index=[]\n",
    "temp= pd.DataFrame()\n",
    "for i in range(len(df_platform_actual)):\n",
    "    name=df_platform_actual.index[i]\n",
    "    name_index.append(name)\n",
    "    temp[name]=df_actual.query('platform == @name').groupby(by=['year_of_release'])['global_sales'].agg(['sum'])['sum']\n",
    "    temp\n",
    "temp.boxplot(column=name_index)\n",
    "plt.show()\n",
    "display(temp)"
   ]
  },
  {
   "cell_type": "markdown",
   "id": "2f42fcbd",
   "metadata": {},
   "source": [
    "<div style=\"border:solid steelblue 1px; padding: 20px\">\n",
    "Исходя из полученных данных (значения медианы и \"усов\") видно насколько прибыльна та или иная платформа за актуальный период.<br /> Лидирующее местно с большим отрывом занимает PS4."
   ]
  },
  {
   "cell_type": "markdown",
   "id": "576a43b3",
   "metadata": {},
   "source": [
    "####  ОЦЕНКИ, ЖАНРЫ И ПРОДАЖИ"
   ]
  },
  {
   "cell_type": "markdown",
   "id": "18a5925b",
   "metadata": {},
   "source": [
    "<div style=\"border:solid steelblue 1px; padding: 20px\">\n",
    "Посмотрим на общее распределение игр по жанрам. В качестве метрики будем использовать медиану т.к. это поможет игнорировать выбросы"
   ]
  },
  {
   "cell_type": "code",
   "execution_count": 16,
   "id": "c6742e99",
   "metadata": {
    "scrolled": true
   },
   "outputs": [
    {
     "data": {
      "text/html": [
       "<div>\n",
       "<style scoped>\n",
       "    .dataframe tbody tr th:only-of-type {\n",
       "        vertical-align: middle;\n",
       "    }\n",
       "\n",
       "    .dataframe tbody tr th {\n",
       "        vertical-align: top;\n",
       "    }\n",
       "\n",
       "    .dataframe thead th {\n",
       "        text-align: right;\n",
       "    }\n",
       "</style>\n",
       "<table border=\"1\" class=\"dataframe\">\n",
       "  <thead>\n",
       "    <tr style=\"text-align: right;\">\n",
       "      <th></th>\n",
       "      <th>median</th>\n",
       "    </tr>\n",
       "    <tr>\n",
       "      <th>genre</th>\n",
       "      <th></th>\n",
       "    </tr>\n",
       "  </thead>\n",
       "  <tbody>\n",
       "    <tr>\n",
       "      <th>Shooter</th>\n",
       "      <td>0.530</td>\n",
       "    </tr>\n",
       "    <tr>\n",
       "      <th>Sports</th>\n",
       "      <td>0.205</td>\n",
       "    </tr>\n",
       "    <tr>\n",
       "      <th>Platform</th>\n",
       "      <td>0.155</td>\n",
       "    </tr>\n",
       "    <tr>\n",
       "      <th>Fighting</th>\n",
       "      <td>0.110</td>\n",
       "    </tr>\n",
       "    <tr>\n",
       "      <th>Role-Playing</th>\n",
       "      <td>0.110</td>\n",
       "    </tr>\n",
       "    <tr>\n",
       "      <th>Racing</th>\n",
       "      <td>0.090</td>\n",
       "    </tr>\n",
       "    <tr>\n",
       "      <th>Action</th>\n",
       "      <td>0.070</td>\n",
       "    </tr>\n",
       "    <tr>\n",
       "      <th>Misc</th>\n",
       "      <td>0.070</td>\n",
       "    </tr>\n",
       "    <tr>\n",
       "      <th>Simulation</th>\n",
       "      <td>0.055</td>\n",
       "    </tr>\n",
       "    <tr>\n",
       "      <th>Strategy</th>\n",
       "      <td>0.050</td>\n",
       "    </tr>\n",
       "    <tr>\n",
       "      <th>Puzzle</th>\n",
       "      <td>0.040</td>\n",
       "    </tr>\n",
       "    <tr>\n",
       "      <th>Adventure</th>\n",
       "      <td>0.020</td>\n",
       "    </tr>\n",
       "  </tbody>\n",
       "</table>\n",
       "</div>"
      ],
      "text/plain": [
       "              median\n",
       "genre               \n",
       "Shooter        0.530\n",
       "Sports         0.205\n",
       "Platform       0.155\n",
       "Fighting       0.110\n",
       "Role-Playing   0.110\n",
       "Racing         0.090\n",
       "Action         0.070\n",
       "Misc           0.070\n",
       "Simulation     0.055\n",
       "Strategy       0.050\n",
       "Puzzle         0.040\n",
       "Adventure      0.020"
      ]
     },
     "metadata": {},
     "output_type": "display_data"
    }
   ],
   "source": [
    "df_actual_genre=df_actual.groupby(by=['genre'])['global_sales'].agg(['median']).sort_values(by='median', ascending=False)\n",
    "display(df_actual_genre)"
   ]
  },
  {
   "cell_type": "markdown",
   "id": "3c4b2a11",
   "metadata": {},
   "source": [
    "<div style=\"border:solid steelblue 1px; padding: 20px\">\n",
    "Посмотрим, как влияют на продажи внутри платформы PS3 отзывы пользователей и критиков. "
   ]
  },
  {
   "cell_type": "code",
   "execution_count": 17,
   "id": "bbf72529",
   "metadata": {},
   "outputs": [
    {
     "name": "stdout",
     "output_type": "stream",
     "text": [
      "0.4690296616372354\n",
      "-0.16015518841924006\n"
     ]
    },
    {
     "data": {
      "image/png": "[encoded data removed]",
      "text/plain": [
       "<Figure size 640x480 with 1 Axes>"
      ]
     },
     "metadata": {},
     "output_type": "display_data"
    },
    {
     "data": {
      "image/png": "[encoded data removed]",
      "text/plain": [
       "<Figure size 640x480 with 1 Axes>"
      ]
     },
     "metadata": {},
     "output_type": "display_data"
    }
   ],
   "source": [
    "df_PS3_critic=df_actual.query('(platform == \"PS3\") & (critic_score != -1)')\n",
    "df_PS3_user=df_actual.query('(platform == \"PS3\") & (user_score != -1)')\n",
    "\n",
    "df_PS3_critic.plot(x='critic_score', y='global_sales', kind='scatter', alpha=0.7)\n",
    "print(df_PS3_critic['global_sales'].corr(df_PS3_critic['critic_score']))\n",
    "\n",
    "df_PS3_user.plot(x='user_score', y='global_sales', kind='scatter', alpha=0.7)\n",
    "print(df_PS3_user['global_sales'].corr(df_PS3_user['user_score']))"
   ]
  },
  {
   "cell_type": "markdown",
   "id": "296bdd3b",
   "metadata": {},
   "source": [
    "<div style=\"border:solid steelblue 1px; padding: 20px\">\n",
    "В результате были установлено, что: <br />\n",
    "1) Оценки критиков демонстрируют прямую, слабую корреляцию с продажами.<br />\n",
    "2) Оценки пользователей демонстрируют обратную, очень слабую корреляцию с продажами т.е. оценки пользователей корреляции с продажами практически не имеют<br />"
   ]
  },
  {
   "cell_type": "markdown",
   "id": "3aa41d14",
   "metadata": {},
   "source": [
    "<div style=\"border:solid steelblue 1px; padding: 20px\">\n",
    "Посмотрим, как влияют на продажи отзывы пользователей и критиков на PS4 и XOne в актуальном интервале:<br />"
   ]
  },
  {
   "cell_type": "code",
   "execution_count": 18,
   "id": "4db930d3",
   "metadata": {},
   "outputs": [
    {
     "name": "stdout",
     "output_type": "stream",
     "text": [
      "0.40145918003935277\n",
      "-0.030108912168491056\n"
     ]
    },
    {
     "data": {
      "image/png": "[encoded data removed]",
      "text/plain": [
       "<Figure size 640x480 with 1 Axes>"
      ]
     },
     "metadata": {},
     "output_type": "display_data"
    },
    {
     "data": {
      "image/png": "[encoded data removed]",
      "text/plain": [
       "<Figure size 640x480 with 1 Axes>"
      ]
     },
     "metadata": {},
     "output_type": "display_data"
    }
   ],
   "source": [
    "df_PS4_critic=df_actual.query('(platform == \"PS4\") & (critic_score != -1)')\n",
    "df_PS4_user=df_actual.query('(platform == \"PS4\") & (user_score != -1)')\n",
    "\n",
    "df_PS4_critic.plot(x='critic_score', y='global_sales', kind='scatter', alpha=0.7)\n",
    "print(df_PS4_critic['global_sales'].corr(df_PS4_critic['critic_score']))\n",
    "\n",
    "df_PS4_user.plot(x='user_score', y='global_sales', kind='scatter', alpha=0.7)\n",
    "print(df_PS4_user['global_sales'].corr(df_PS4_user['user_score']))"
   ]
  },
  {
   "cell_type": "code",
   "execution_count": 19,
   "id": "af74db54",
   "metadata": {},
   "outputs": [
    {
     "name": "stdout",
     "output_type": "stream",
     "text": [
      "0.4468840660889471\n",
      "-0.05971729063892927\n"
     ]
    },
    {
     "data": {
      "image/png": "[encoded data removed]",
      "text/plain": [
       "<Figure size 640x480 with 1 Axes>"
      ]
     },
     "metadata": {},
     "output_type": "display_data"
    },
    {
     "data": {
      "image/png": "[encoded data removed]",
      "text/plain": [
       "<Figure size 640x480 with 1 Axes>"
      ]
     },
     "metadata": {},
     "output_type": "display_data"
    }
   ],
   "source": [
    "df_XOne_critic=df_actual.query('(platform == \"XOne\") & (critic_score != -1)')\n",
    "df_XOne_user=df_actual.query('(platform == \"XOne\") & (user_score != -1)')\n",
    "\n",
    "df_XOne_critic.plot(x='critic_score', y='global_sales', kind='scatter', alpha=0.7)\n",
    "print(df_XOne_critic['global_sales'].corr(df_XOne_critic['critic_score']))\n",
    "\n",
    "df_XOne_user.plot(x='user_score', y='global_sales', kind='scatter', alpha=0.7)\n",
    "print(df_XOne_user['global_sales'].corr(df_XOne_user['user_score']))"
   ]
  },
  {
   "cell_type": "markdown",
   "id": "e055f828",
   "metadata": {},
   "source": [
    "<div style=\"border:solid steelblue 1px; padding: 20px\">\n",
    "Как видно картина для лпатформ PS4 и XOne не сильно изменилась т.е.<br />\n",
    "В результате нами были установлено, что: <br />\n",
    "1) Оценки критиков демонстрируют прямую, слабую корреляцию с продажами.<br />\n",
    "2) Оценки пользователей демонстрируют обратную, очень слабую корреляцию с продажами т.е. оценки пользователей корреляции с продажами практически не имеют<br />"
   ]
  },
  {
   "cell_type": "markdown",
   "id": "c4c22a0f",
   "metadata": {},
   "source": [
    "## ПРТРЕТ ПОЛЬЗОВАТЕЛЯ КАЖДОГО РЕГИОНА"
   ]
  },
  {
   "cell_type": "code",
   "execution_count": 20,
   "id": "cc43ddf0",
   "metadata": {},
   "outputs": [
    {
     "name": "stdout",
     "output_type": "stream",
     "text": [
      "\n",
      "регион: na_sales\n"
     ]
    },
    {
     "data": {
      "text/html": [
       "<div>\n",
       "<style scoped>\n",
       "    .dataframe tbody tr th:only-of-type {\n",
       "        vertical-align: middle;\n",
       "    }\n",
       "\n",
       "    .dataframe tbody tr th {\n",
       "        vertical-align: top;\n",
       "    }\n",
       "\n",
       "    .dataframe thead th {\n",
       "        text-align: right;\n",
       "    }\n",
       "</style>\n",
       "<table border=\"1\" class=\"dataframe\">\n",
       "  <thead>\n",
       "    <tr style=\"text-align: right;\">\n",
       "      <th></th>\n",
       "      <th>sum</th>\n",
       "      <th>ratio</th>\n",
       "    </tr>\n",
       "    <tr>\n",
       "      <th>platform</th>\n",
       "      <th></th>\n",
       "      <th></th>\n",
       "    </tr>\n",
       "  </thead>\n",
       "  <tbody>\n",
       "    <tr>\n",
       "      <th>PS4</th>\n",
       "      <td>108.74</td>\n",
       "      <td>0.349242</td>\n",
       "    </tr>\n",
       "    <tr>\n",
       "      <th>XOne</th>\n",
       "      <td>91.01</td>\n",
       "      <td>0.292298</td>\n",
       "    </tr>\n",
       "    <tr>\n",
       "      <th>X360</th>\n",
       "      <td>29.46</td>\n",
       "      <td>0.094617</td>\n",
       "    </tr>\n",
       "    <tr>\n",
       "      <th>3DS</th>\n",
       "      <td>25.94</td>\n",
       "      <td>0.083312</td>\n",
       "    </tr>\n",
       "    <tr>\n",
       "      <th>PS3</th>\n",
       "      <td>22.76</td>\n",
       "      <td>0.073099</td>\n",
       "    </tr>\n",
       "  </tbody>\n",
       "</table>\n",
       "</div>"
      ],
      "text/plain": [
       "             sum     ratio\n",
       "platform                  \n",
       "PS4       108.74  0.349242\n",
       "XOne       91.01  0.292298\n",
       "X360       29.46  0.094617\n",
       "3DS        25.94  0.083312\n",
       "PS3        22.76  0.073099"
      ]
     },
     "metadata": {},
     "output_type": "display_data"
    },
    {
     "data": {
      "text/html": [
       "<div>\n",
       "<style scoped>\n",
       "    .dataframe tbody tr th:only-of-type {\n",
       "        vertical-align: middle;\n",
       "    }\n",
       "\n",
       "    .dataframe tbody tr th {\n",
       "        vertical-align: top;\n",
       "    }\n",
       "\n",
       "    .dataframe thead th {\n",
       "        text-align: right;\n",
       "    }\n",
       "</style>\n",
       "<table border=\"1\" class=\"dataframe\">\n",
       "  <thead>\n",
       "    <tr style=\"text-align: right;\">\n",
       "      <th></th>\n",
       "      <th>sum</th>\n",
       "      <th>ratio</th>\n",
       "    </tr>\n",
       "    <tr>\n",
       "      <th>genre</th>\n",
       "      <th></th>\n",
       "      <th></th>\n",
       "    </tr>\n",
       "  </thead>\n",
       "  <tbody>\n",
       "    <tr>\n",
       "      <th>Shooter</th>\n",
       "      <td>86.40</td>\n",
       "      <td>0.277492</td>\n",
       "    </tr>\n",
       "    <tr>\n",
       "      <th>Action</th>\n",
       "      <td>78.06</td>\n",
       "      <td>0.250707</td>\n",
       "    </tr>\n",
       "    <tr>\n",
       "      <th>Sports</th>\n",
       "      <td>49.70</td>\n",
       "      <td>0.159622</td>\n",
       "    </tr>\n",
       "    <tr>\n",
       "      <th>Role-Playing</th>\n",
       "      <td>38.89</td>\n",
       "      <td>0.124904</td>\n",
       "    </tr>\n",
       "    <tr>\n",
       "      <th>Misc</th>\n",
       "      <td>17.05</td>\n",
       "      <td>0.054760</td>\n",
       "    </tr>\n",
       "  </tbody>\n",
       "</table>\n",
       "</div>"
      ],
      "text/plain": [
       "                sum     ratio\n",
       "genre                        \n",
       "Shooter       86.40  0.277492\n",
       "Action        78.06  0.250707\n",
       "Sports        49.70  0.159622\n",
       "Role-Playing  38.89  0.124904\n",
       "Misc          17.05  0.054760"
      ]
     },
     "metadata": {},
     "output_type": "display_data"
    },
    {
     "data": {
      "text/html": [
       "<div>\n",
       "<style scoped>\n",
       "    .dataframe tbody tr th:only-of-type {\n",
       "        vertical-align: middle;\n",
       "    }\n",
       "\n",
       "    .dataframe tbody tr th {\n",
       "        vertical-align: top;\n",
       "    }\n",
       "\n",
       "    .dataframe thead th {\n",
       "        text-align: right;\n",
       "    }\n",
       "</style>\n",
       "<table border=\"1\" class=\"dataframe\">\n",
       "  <thead>\n",
       "    <tr style=\"text-align: right;\">\n",
       "      <th></th>\n",
       "      <th>sum</th>\n",
       "      <th>ratio</th>\n",
       "    </tr>\n",
       "    <tr>\n",
       "      <th>rating</th>\n",
       "      <th></th>\n",
       "      <th></th>\n",
       "    </tr>\n",
       "  </thead>\n",
       "  <tbody>\n",
       "    <tr>\n",
       "      <th>M</th>\n",
       "      <td>105.01</td>\n",
       "      <td>0.337262</td>\n",
       "    </tr>\n",
       "    <tr>\n",
       "      <th>NOT!</th>\n",
       "      <td>70.59</td>\n",
       "      <td>0.226715</td>\n",
       "    </tr>\n",
       "    <tr>\n",
       "      <th>E</th>\n",
       "      <td>55.04</td>\n",
       "      <td>0.176773</td>\n",
       "    </tr>\n",
       "    <tr>\n",
       "      <th>T</th>\n",
       "      <td>44.59</td>\n",
       "      <td>0.143210</td>\n",
       "    </tr>\n",
       "    <tr>\n",
       "      <th>E10+</th>\n",
       "      <td>36.13</td>\n",
       "      <td>0.116039</td>\n",
       "    </tr>\n",
       "  </tbody>\n",
       "</table>\n",
       "</div>"
      ],
      "text/plain": [
       "           sum     ratio\n",
       "rating                  \n",
       "M       105.01  0.337262\n",
       "NOT!     70.59  0.226715\n",
       "E        55.04  0.176773\n",
       "T        44.59  0.143210\n",
       "E10+     36.13  0.116039"
      ]
     },
     "metadata": {},
     "output_type": "display_data"
    },
    {
     "data": {
      "text/html": [
       "<div>\n",
       "<style scoped>\n",
       "    .dataframe tbody tr th:only-of-type {\n",
       "        vertical-align: middle;\n",
       "    }\n",
       "\n",
       "    .dataframe tbody tr th {\n",
       "        vertical-align: top;\n",
       "    }\n",
       "\n",
       "    .dataframe thead th {\n",
       "        text-align: right;\n",
       "    }\n",
       "</style>\n",
       "<table border=\"1\" class=\"dataframe\">\n",
       "  <thead>\n",
       "    <tr style=\"text-align: right;\">\n",
       "      <th></th>\n",
       "      <th></th>\n",
       "      <th>sum</th>\n",
       "    </tr>\n",
       "    <tr>\n",
       "      <th>platform</th>\n",
       "      <th>rating</th>\n",
       "      <th></th>\n",
       "    </tr>\n",
       "  </thead>\n",
       "  <tbody>\n",
       "    <tr>\n",
       "      <th>XOne</th>\n",
       "      <th>M</th>\n",
       "      <td>43.11</td>\n",
       "    </tr>\n",
       "    <tr>\n",
       "      <th rowspan=\"3\" valign=\"top\">PS4</th>\n",
       "      <th>M</th>\n",
       "      <td>41.02</td>\n",
       "    </tr>\n",
       "    <tr>\n",
       "      <th>NOT!</th>\n",
       "      <td>24.58</td>\n",
       "    </tr>\n",
       "    <tr>\n",
       "      <th>T</th>\n",
       "      <td>19.94</td>\n",
       "    </tr>\n",
       "    <tr>\n",
       "      <th>3DS</th>\n",
       "      <th>NOT!</th>\n",
       "      <td>15.98</td>\n",
       "    </tr>\n",
       "    <tr>\n",
       "      <th>PS4</th>\n",
       "      <th>E</th>\n",
       "      <td>15.81</td>\n",
       "    </tr>\n",
       "    <tr>\n",
       "      <th rowspan=\"2\" valign=\"top\">XOne</th>\n",
       "      <th>NOT!</th>\n",
       "      <td>15.51</td>\n",
       "    </tr>\n",
       "    <tr>\n",
       "      <th>E</th>\n",
       "      <td>12.63</td>\n",
       "    </tr>\n",
       "  </tbody>\n",
       "</table>\n",
       "</div>"
      ],
      "text/plain": [
       "                   sum\n",
       "platform rating       \n",
       "XOne     M       43.11\n",
       "PS4      M       41.02\n",
       "         NOT!    24.58\n",
       "         T       19.94\n",
       "3DS      NOT!    15.98\n",
       "PS4      E       15.81\n",
       "XOne     NOT!    15.51\n",
       "         E       12.63"
      ]
     },
     "metadata": {},
     "output_type": "display_data"
    },
    {
     "data": {
      "text/html": [
       "<div>\n",
       "<style scoped>\n",
       "    .dataframe tbody tr th:only-of-type {\n",
       "        vertical-align: middle;\n",
       "    }\n",
       "\n",
       "    .dataframe tbody tr th {\n",
       "        vertical-align: top;\n",
       "    }\n",
       "\n",
       "    .dataframe thead th {\n",
       "        text-align: right;\n",
       "    }\n",
       "</style>\n",
       "<table border=\"1\" class=\"dataframe\">\n",
       "  <thead>\n",
       "    <tr style=\"text-align: right;\">\n",
       "      <th></th>\n",
       "      <th></th>\n",
       "      <th>sum</th>\n",
       "    </tr>\n",
       "    <tr>\n",
       "      <th>genre</th>\n",
       "      <th>rating</th>\n",
       "      <th></th>\n",
       "    </tr>\n",
       "  </thead>\n",
       "  <tbody>\n",
       "    <tr>\n",
       "      <th>Shooter</th>\n",
       "      <th>M</th>\n",
       "      <td>45.94</td>\n",
       "    </tr>\n",
       "    <tr>\n",
       "      <th>Action</th>\n",
       "      <th>M</th>\n",
       "      <td>38.32</td>\n",
       "    </tr>\n",
       "    <tr>\n",
       "      <th>Sports</th>\n",
       "      <th>E</th>\n",
       "      <td>36.88</td>\n",
       "    </tr>\n",
       "    <tr>\n",
       "      <th rowspan=\"2\" valign=\"top\">Shooter</th>\n",
       "      <th>NOT!</th>\n",
       "      <td>19.40</td>\n",
       "    </tr>\n",
       "    <tr>\n",
       "      <th>T</th>\n",
       "      <td>17.34</td>\n",
       "    </tr>\n",
       "    <tr>\n",
       "      <th>Role-Playing</th>\n",
       "      <th>NOT!</th>\n",
       "      <td>17.12</td>\n",
       "    </tr>\n",
       "    <tr>\n",
       "      <th>Action</th>\n",
       "      <th>E10+</th>\n",
       "      <td>15.01</td>\n",
       "    </tr>\n",
       "    <tr>\n",
       "      <th>Role-Playing</th>\n",
       "      <th>M</th>\n",
       "      <td>14.89</td>\n",
       "    </tr>\n",
       "  </tbody>\n",
       "</table>\n",
       "</div>"
      ],
      "text/plain": [
       "                       sum\n",
       "genre        rating       \n",
       "Shooter      M       45.94\n",
       "Action       M       38.32\n",
       "Sports       E       36.88\n",
       "Shooter      NOT!    19.40\n",
       "             T       17.34\n",
       "Role-Playing NOT!    17.12\n",
       "Action       E10+    15.01\n",
       "Role-Playing M       14.89"
      ]
     },
     "metadata": {},
     "output_type": "display_data"
    },
    {
     "name": "stdout",
     "output_type": "stream",
     "text": [
      "--------------------------------------------\n",
      "\n",
      "регион: eu_sales\n"
     ]
    },
    {
     "data": {
      "text/html": [
       "<div>\n",
       "<style scoped>\n",
       "    .dataframe tbody tr th:only-of-type {\n",
       "        vertical-align: middle;\n",
       "    }\n",
       "\n",
       "    .dataframe tbody tr th {\n",
       "        vertical-align: top;\n",
       "    }\n",
       "\n",
       "    .dataframe thead th {\n",
       "        text-align: right;\n",
       "    }\n",
       "</style>\n",
       "<table border=\"1\" class=\"dataframe\">\n",
       "  <thead>\n",
       "    <tr style=\"text-align: right;\">\n",
       "      <th></th>\n",
       "      <th>sum</th>\n",
       "      <th>ratio</th>\n",
       "    </tr>\n",
       "    <tr>\n",
       "      <th>platform</th>\n",
       "      <th></th>\n",
       "      <th></th>\n",
       "    </tr>\n",
       "  </thead>\n",
       "  <tbody>\n",
       "    <tr>\n",
       "      <th>PS4</th>\n",
       "      <td>140.21</td>\n",
       "      <td>0.479318</td>\n",
       "    </tr>\n",
       "    <tr>\n",
       "      <th>XOne</th>\n",
       "      <td>49.31</td>\n",
       "      <td>0.168570</td>\n",
       "    </tr>\n",
       "    <tr>\n",
       "      <th>PS3</th>\n",
       "      <td>26.53</td>\n",
       "      <td>0.090695</td>\n",
       "    </tr>\n",
       "    <tr>\n",
       "      <th>PC</th>\n",
       "      <td>20.08</td>\n",
       "      <td>0.068645</td>\n",
       "    </tr>\n",
       "    <tr>\n",
       "      <th>3DS</th>\n",
       "      <td>19.08</td>\n",
       "      <td>0.065226</td>\n",
       "    </tr>\n",
       "  </tbody>\n",
       "</table>\n",
       "</div>"
      ],
      "text/plain": [
       "             sum     ratio\n",
       "platform                  \n",
       "PS4       140.21  0.479318\n",
       "XOne       49.31  0.168570\n",
       "PS3        26.53  0.090695\n",
       "PC         20.08  0.068645\n",
       "3DS        19.08  0.065226"
      ]
     },
     "metadata": {},
     "output_type": "display_data"
    },
    {
     "data": {
      "text/html": [
       "<div>\n",
       "<style scoped>\n",
       "    .dataframe tbody tr th:only-of-type {\n",
       "        vertical-align: middle;\n",
       "    }\n",
       "\n",
       "    .dataframe tbody tr th {\n",
       "        vertical-align: top;\n",
       "    }\n",
       "\n",
       "    .dataframe thead th {\n",
       "        text-align: right;\n",
       "    }\n",
       "</style>\n",
       "<table border=\"1\" class=\"dataframe\">\n",
       "  <thead>\n",
       "    <tr style=\"text-align: right;\">\n",
       "      <th></th>\n",
       "      <th>sum</th>\n",
       "      <th>ratio</th>\n",
       "    </tr>\n",
       "    <tr>\n",
       "      <th>genre</th>\n",
       "      <th></th>\n",
       "      <th></th>\n",
       "    </tr>\n",
       "  </thead>\n",
       "  <tbody>\n",
       "    <tr>\n",
       "      <th>Action</th>\n",
       "      <td>79.91</td>\n",
       "      <td>0.273178</td>\n",
       "    </tr>\n",
       "    <tr>\n",
       "      <th>Shooter</th>\n",
       "      <td>69.63</td>\n",
       "      <td>0.238035</td>\n",
       "    </tr>\n",
       "    <tr>\n",
       "      <th>Sports</th>\n",
       "      <td>48.82</td>\n",
       "      <td>0.166895</td>\n",
       "    </tr>\n",
       "    <tr>\n",
       "      <th>Role-Playing</th>\n",
       "      <td>32.35</td>\n",
       "      <td>0.110591</td>\n",
       "    </tr>\n",
       "    <tr>\n",
       "      <th>Racing</th>\n",
       "      <td>14.88</td>\n",
       "      <td>0.050868</td>\n",
       "    </tr>\n",
       "  </tbody>\n",
       "</table>\n",
       "</div>"
      ],
      "text/plain": [
       "                sum     ratio\n",
       "genre                        \n",
       "Action        79.91  0.273178\n",
       "Shooter       69.63  0.238035\n",
       "Sports        48.82  0.166895\n",
       "Role-Playing  32.35  0.110591\n",
       "Racing        14.88  0.050868"
      ]
     },
     "metadata": {},
     "output_type": "display_data"
    },
    {
     "data": {
      "text/html": [
       "<div>\n",
       "<style scoped>\n",
       "    .dataframe tbody tr th:only-of-type {\n",
       "        vertical-align: middle;\n",
       "    }\n",
       "\n",
       "    .dataframe tbody tr th {\n",
       "        vertical-align: top;\n",
       "    }\n",
       "\n",
       "    .dataframe thead th {\n",
       "        text-align: right;\n",
       "    }\n",
       "</style>\n",
       "<table border=\"1\" class=\"dataframe\">\n",
       "  <thead>\n",
       "    <tr style=\"text-align: right;\">\n",
       "      <th></th>\n",
       "      <th>sum</th>\n",
       "      <th>ratio</th>\n",
       "    </tr>\n",
       "    <tr>\n",
       "      <th>rating</th>\n",
       "      <th></th>\n",
       "      <th></th>\n",
       "    </tr>\n",
       "  </thead>\n",
       "  <tbody>\n",
       "    <tr>\n",
       "      <th>M</th>\n",
       "      <td>100.03</td>\n",
       "      <td>0.341960</td>\n",
       "    </tr>\n",
       "    <tr>\n",
       "      <th>NOT!</th>\n",
       "      <td>63.41</td>\n",
       "      <td>0.216772</td>\n",
       "    </tr>\n",
       "    <tr>\n",
       "      <th>E</th>\n",
       "      <td>62.09</td>\n",
       "      <td>0.212259</td>\n",
       "    </tr>\n",
       "    <tr>\n",
       "      <th>T</th>\n",
       "      <td>38.24</td>\n",
       "      <td>0.130726</td>\n",
       "    </tr>\n",
       "    <tr>\n",
       "      <th>E10+</th>\n",
       "      <td>28.71</td>\n",
       "      <td>0.098147</td>\n",
       "    </tr>\n",
       "  </tbody>\n",
       "</table>\n",
       "</div>"
      ],
      "text/plain": [
       "           sum     ratio\n",
       "rating                  \n",
       "M       100.03  0.341960\n",
       "NOT!     63.41  0.216772\n",
       "E        62.09  0.212259\n",
       "T        38.24  0.130726\n",
       "E10+     28.71  0.098147"
      ]
     },
     "metadata": {},
     "output_type": "display_data"
    },
    {
     "data": {
      "text/html": [
       "<div>\n",
       "<style scoped>\n",
       "    .dataframe tbody tr th:only-of-type {\n",
       "        vertical-align: middle;\n",
       "    }\n",
       "\n",
       "    .dataframe tbody tr th {\n",
       "        vertical-align: top;\n",
       "    }\n",
       "\n",
       "    .dataframe thead th {\n",
       "        text-align: right;\n",
       "    }\n",
       "</style>\n",
       "<table border=\"1\" class=\"dataframe\">\n",
       "  <thead>\n",
       "    <tr style=\"text-align: right;\">\n",
       "      <th></th>\n",
       "      <th></th>\n",
       "      <th>sum</th>\n",
       "    </tr>\n",
       "    <tr>\n",
       "      <th>platform</th>\n",
       "      <th>rating</th>\n",
       "      <th></th>\n",
       "    </tr>\n",
       "  </thead>\n",
       "  <tbody>\n",
       "    <tr>\n",
       "      <th rowspan=\"3\" valign=\"top\">PS4</th>\n",
       "      <th>M</th>\n",
       "      <td>57.16</td>\n",
       "    </tr>\n",
       "    <tr>\n",
       "      <th>NOT!</th>\n",
       "      <td>28.31</td>\n",
       "    </tr>\n",
       "    <tr>\n",
       "      <th>E</th>\n",
       "      <td>26.84</td>\n",
       "    </tr>\n",
       "    <tr>\n",
       "      <th>XOne</th>\n",
       "      <th>M</th>\n",
       "      <td>22.47</td>\n",
       "    </tr>\n",
       "    <tr>\n",
       "      <th>PS4</th>\n",
       "      <th>T</th>\n",
       "      <td>21.22</td>\n",
       "    </tr>\n",
       "    <tr>\n",
       "      <th>3DS</th>\n",
       "      <th>NOT!</th>\n",
       "      <td>11.23</td>\n",
       "    </tr>\n",
       "    <tr>\n",
       "      <th rowspan=\"2\" valign=\"top\">XOne</th>\n",
       "      <th>E</th>\n",
       "      <td>9.38</td>\n",
       "    </tr>\n",
       "    <tr>\n",
       "      <th>NOT!</th>\n",
       "      <td>8.43</td>\n",
       "    </tr>\n",
       "  </tbody>\n",
       "</table>\n",
       "</div>"
      ],
      "text/plain": [
       "                   sum\n",
       "platform rating       \n",
       "PS4      M       57.16\n",
       "         NOT!    28.31\n",
       "         E       26.84\n",
       "XOne     M       22.47\n",
       "PS4      T       21.22\n",
       "3DS      NOT!    11.23\n",
       "XOne     E        9.38\n",
       "         NOT!     8.43"
      ]
     },
     "metadata": {},
     "output_type": "display_data"
    },
    {
     "data": {
      "text/html": [
       "<div>\n",
       "<style scoped>\n",
       "    .dataframe tbody tr th:only-of-type {\n",
       "        vertical-align: middle;\n",
       "    }\n",
       "\n",
       "    .dataframe tbody tr th {\n",
       "        vertical-align: top;\n",
       "    }\n",
       "\n",
       "    .dataframe thead th {\n",
       "        text-align: right;\n",
       "    }\n",
       "</style>\n",
       "<table border=\"1\" class=\"dataframe\">\n",
       "  <thead>\n",
       "    <tr style=\"text-align: right;\">\n",
       "      <th></th>\n",
       "      <th></th>\n",
       "      <th>sum</th>\n",
       "    </tr>\n",
       "    <tr>\n",
       "      <th>genre</th>\n",
       "      <th>rating</th>\n",
       "      <th></th>\n",
       "    </tr>\n",
       "  </thead>\n",
       "  <tbody>\n",
       "    <tr>\n",
       "      <th>Action</th>\n",
       "      <th>M</th>\n",
       "      <td>41.97</td>\n",
       "    </tr>\n",
       "    <tr>\n",
       "      <th>Sports</th>\n",
       "      <th>E</th>\n",
       "      <td>41.53</td>\n",
       "    </tr>\n",
       "    <tr>\n",
       "      <th rowspan=\"2\" valign=\"top\">Shooter</th>\n",
       "      <th>M</th>\n",
       "      <td>38.24</td>\n",
       "    </tr>\n",
       "    <tr>\n",
       "      <th>NOT!</th>\n",
       "      <td>16.54</td>\n",
       "    </tr>\n",
       "    <tr>\n",
       "      <th>Role-Playing</th>\n",
       "      <th>M</th>\n",
       "      <td>15.05</td>\n",
       "    </tr>\n",
       "    <tr>\n",
       "      <th rowspan=\"2\" valign=\"top\">Action</th>\n",
       "      <th>E10+</th>\n",
       "      <td>14.37</td>\n",
       "    </tr>\n",
       "    <tr>\n",
       "      <th>NOT!</th>\n",
       "      <td>13.88</td>\n",
       "    </tr>\n",
       "    <tr>\n",
       "      <th>Role-Playing</th>\n",
       "      <th>NOT!</th>\n",
       "      <td>12.05</td>\n",
       "    </tr>\n",
       "  </tbody>\n",
       "</table>\n",
       "</div>"
      ],
      "text/plain": [
       "                       sum\n",
       "genre        rating       \n",
       "Action       M       41.97\n",
       "Sports       E       41.53\n",
       "Shooter      M       38.24\n",
       "             NOT!    16.54\n",
       "Role-Playing M       15.05\n",
       "Action       E10+    14.37\n",
       "             NOT!    13.88\n",
       "Role-Playing NOT!    12.05"
      ]
     },
     "metadata": {},
     "output_type": "display_data"
    },
    {
     "name": "stdout",
     "output_type": "stream",
     "text": [
      "--------------------------------------------\n",
      "\n",
      "регион: jp_sales\n"
     ]
    },
    {
     "data": {
      "text/html": [
       "<div>\n",
       "<style scoped>\n",
       "    .dataframe tbody tr th:only-of-type {\n",
       "        vertical-align: middle;\n",
       "    }\n",
       "\n",
       "    .dataframe tbody tr th {\n",
       "        vertical-align: top;\n",
       "    }\n",
       "\n",
       "    .dataframe thead th {\n",
       "        text-align: right;\n",
       "    }\n",
       "</style>\n",
       "<table border=\"1\" class=\"dataframe\">\n",
       "  <thead>\n",
       "    <tr style=\"text-align: right;\">\n",
       "      <th></th>\n",
       "      <th>sum</th>\n",
       "      <th>ratio</th>\n",
       "    </tr>\n",
       "    <tr>\n",
       "      <th>platform</th>\n",
       "      <th></th>\n",
       "      <th></th>\n",
       "    </tr>\n",
       "  </thead>\n",
       "  <tbody>\n",
       "    <tr>\n",
       "      <th>3DS</th>\n",
       "      <td>46.67</td>\n",
       "      <td>0.467307</td>\n",
       "    </tr>\n",
       "    <tr>\n",
       "      <th>PS4</th>\n",
       "      <td>17.16</td>\n",
       "      <td>0.171823</td>\n",
       "    </tr>\n",
       "    <tr>\n",
       "      <th>PSV</th>\n",
       "      <td>15.95</td>\n",
       "      <td>0.159708</td>\n",
       "    </tr>\n",
       "    <tr>\n",
       "      <th>PS3</th>\n",
       "      <td>11.53</td>\n",
       "      <td>0.115450</td>\n",
       "    </tr>\n",
       "    <tr>\n",
       "      <th>WiiU</th>\n",
       "      <td>7.55</td>\n",
       "      <td>0.075598</td>\n",
       "    </tr>\n",
       "  </tbody>\n",
       "</table>\n",
       "</div>"
      ],
      "text/plain": [
       "            sum     ratio\n",
       "platform                 \n",
       "3DS       46.67  0.467307\n",
       "PS4       17.16  0.171823\n",
       "PSV       15.95  0.159708\n",
       "PS3       11.53  0.115450\n",
       "WiiU       7.55  0.075598"
      ]
     },
     "metadata": {},
     "output_type": "display_data"
    },
    {
     "data": {
      "text/html": [
       "<div>\n",
       "<style scoped>\n",
       "    .dataframe tbody tr th:only-of-type {\n",
       "        vertical-align: middle;\n",
       "    }\n",
       "\n",
       "    .dataframe tbody tr th {\n",
       "        vertical-align: top;\n",
       "    }\n",
       "\n",
       "    .dataframe thead th {\n",
       "        text-align: right;\n",
       "    }\n",
       "</style>\n",
       "<table border=\"1\" class=\"dataframe\">\n",
       "  <thead>\n",
       "    <tr style=\"text-align: right;\">\n",
       "      <th></th>\n",
       "      <th>sum</th>\n",
       "      <th>ratio</th>\n",
       "    </tr>\n",
       "    <tr>\n",
       "      <th>genre</th>\n",
       "      <th></th>\n",
       "      <th></th>\n",
       "    </tr>\n",
       "  </thead>\n",
       "  <tbody>\n",
       "    <tr>\n",
       "      <th>Role-Playing</th>\n",
       "      <td>33.53</td>\n",
       "      <td>0.335736</td>\n",
       "    </tr>\n",
       "    <tr>\n",
       "      <th>Action</th>\n",
       "      <td>31.60</td>\n",
       "      <td>0.316411</td>\n",
       "    </tr>\n",
       "    <tr>\n",
       "      <th>Fighting</th>\n",
       "      <td>6.57</td>\n",
       "      <td>0.065786</td>\n",
       "    </tr>\n",
       "    <tr>\n",
       "      <th>Misc</th>\n",
       "      <td>5.95</td>\n",
       "      <td>0.059577</td>\n",
       "    </tr>\n",
       "    <tr>\n",
       "      <th>Shooter</th>\n",
       "      <td>5.07</td>\n",
       "      <td>0.050766</td>\n",
       "    </tr>\n",
       "  </tbody>\n",
       "</table>\n",
       "</div>"
      ],
      "text/plain": [
       "                sum     ratio\n",
       "genre                        \n",
       "Role-Playing  33.53  0.335736\n",
       "Action        31.60  0.316411\n",
       "Fighting       6.57  0.065786\n",
       "Misc           5.95  0.059577\n",
       "Shooter        5.07  0.050766"
      ]
     },
     "metadata": {},
     "output_type": "display_data"
    },
    {
     "data": {
      "text/html": [
       "<div>\n",
       "<style scoped>\n",
       "    .dataframe tbody tr th:only-of-type {\n",
       "        vertical-align: middle;\n",
       "    }\n",
       "\n",
       "    .dataframe tbody tr th {\n",
       "        vertical-align: top;\n",
       "    }\n",
       "\n",
       "    .dataframe thead th {\n",
       "        text-align: right;\n",
       "    }\n",
       "</style>\n",
       "<table border=\"1\" class=\"dataframe\">\n",
       "  <thead>\n",
       "    <tr style=\"text-align: right;\">\n",
       "      <th></th>\n",
       "      <th>sum</th>\n",
       "      <th>ratio</th>\n",
       "    </tr>\n",
       "    <tr>\n",
       "      <th>rating</th>\n",
       "      <th></th>\n",
       "      <th></th>\n",
       "    </tr>\n",
       "  </thead>\n",
       "  <tbody>\n",
       "    <tr>\n",
       "      <th>NOT!</th>\n",
       "      <td>61.46</td>\n",
       "      <td>0.615400</td>\n",
       "    </tr>\n",
       "    <tr>\n",
       "      <th>T</th>\n",
       "      <td>16.14</td>\n",
       "      <td>0.161610</td>\n",
       "    </tr>\n",
       "    <tr>\n",
       "      <th>E</th>\n",
       "      <td>9.20</td>\n",
       "      <td>0.092120</td>\n",
       "    </tr>\n",
       "    <tr>\n",
       "      <th>M</th>\n",
       "      <td>8.39</td>\n",
       "      <td>0.084009</td>\n",
       "    </tr>\n",
       "    <tr>\n",
       "      <th>E10+</th>\n",
       "      <td>4.68</td>\n",
       "      <td>0.046861</td>\n",
       "    </tr>\n",
       "  </tbody>\n",
       "</table>\n",
       "</div>"
      ],
      "text/plain": [
       "          sum     ratio\n",
       "rating                 \n",
       "NOT!    61.46  0.615400\n",
       "T       16.14  0.161610\n",
       "E        9.20  0.092120\n",
       "M        8.39  0.084009\n",
       "E10+     4.68  0.046861"
      ]
     },
     "metadata": {},
     "output_type": "display_data"
    },
    {
     "data": {
      "text/html": [
       "<div>\n",
       "<style scoped>\n",
       "    .dataframe tbody tr th:only-of-type {\n",
       "        vertical-align: middle;\n",
       "    }\n",
       "\n",
       "    .dataframe tbody tr th {\n",
       "        vertical-align: top;\n",
       "    }\n",
       "\n",
       "    .dataframe thead th {\n",
       "        text-align: right;\n",
       "    }\n",
       "</style>\n",
       "<table border=\"1\" class=\"dataframe\">\n",
       "  <thead>\n",
       "    <tr style=\"text-align: right;\">\n",
       "      <th></th>\n",
       "      <th></th>\n",
       "      <th>sum</th>\n",
       "    </tr>\n",
       "    <tr>\n",
       "      <th>platform</th>\n",
       "      <th>rating</th>\n",
       "      <th></th>\n",
       "    </tr>\n",
       "  </thead>\n",
       "  <tbody>\n",
       "    <tr>\n",
       "      <th>3DS</th>\n",
       "      <th>NOT!</th>\n",
       "      <td>35.45</td>\n",
       "    </tr>\n",
       "    <tr>\n",
       "      <th>PSV</th>\n",
       "      <th>NOT!</th>\n",
       "      <td>10.55</td>\n",
       "    </tr>\n",
       "    <tr>\n",
       "      <th>PS4</th>\n",
       "      <th>NOT!</th>\n",
       "      <td>6.90</td>\n",
       "    </tr>\n",
       "    <tr>\n",
       "      <th>PS3</th>\n",
       "      <th>NOT!</th>\n",
       "      <td>6.32</td>\n",
       "    </tr>\n",
       "    <tr>\n",
       "      <th>PS4</th>\n",
       "      <th>M</th>\n",
       "      <td>5.17</td>\n",
       "    </tr>\n",
       "    <tr>\n",
       "      <th rowspan=\"2\" valign=\"top\">3DS</th>\n",
       "      <th>T</th>\n",
       "      <td>4.64</td>\n",
       "    </tr>\n",
       "    <tr>\n",
       "      <th>E</th>\n",
       "      <td>4.18</td>\n",
       "    </tr>\n",
       "    <tr>\n",
       "      <th>PSV</th>\n",
       "      <th>T</th>\n",
       "      <td>4.14</td>\n",
       "    </tr>\n",
       "  </tbody>\n",
       "</table>\n",
       "</div>"
      ],
      "text/plain": [
       "                   sum\n",
       "platform rating       \n",
       "3DS      NOT!    35.45\n",
       "PSV      NOT!    10.55\n",
       "PS4      NOT!     6.90\n",
       "PS3      NOT!     6.32\n",
       "PS4      M        5.17\n",
       "3DS      T        4.64\n",
       "         E        4.18\n",
       "PSV      T        4.14"
      ]
     },
     "metadata": {},
     "output_type": "display_data"
    },
    {
     "data": {
      "text/html": [
       "<div>\n",
       "<style scoped>\n",
       "    .dataframe tbody tr th:only-of-type {\n",
       "        vertical-align: middle;\n",
       "    }\n",
       "\n",
       "    .dataframe tbody tr th {\n",
       "        vertical-align: top;\n",
       "    }\n",
       "\n",
       "    .dataframe thead th {\n",
       "        text-align: right;\n",
       "    }\n",
       "</style>\n",
       "<table border=\"1\" class=\"dataframe\">\n",
       "  <thead>\n",
       "    <tr style=\"text-align: right;\">\n",
       "      <th></th>\n",
       "      <th></th>\n",
       "      <th>sum</th>\n",
       "    </tr>\n",
       "    <tr>\n",
       "      <th>genre</th>\n",
       "      <th>rating</th>\n",
       "      <th></th>\n",
       "    </tr>\n",
       "  </thead>\n",
       "  <tbody>\n",
       "    <tr>\n",
       "      <th>Role-Playing</th>\n",
       "      <th>NOT!</th>\n",
       "      <td>21.51</td>\n",
       "    </tr>\n",
       "    <tr>\n",
       "      <th>Action</th>\n",
       "      <th>NOT!</th>\n",
       "      <td>21.50</td>\n",
       "    </tr>\n",
       "    <tr>\n",
       "      <th>Role-Playing</th>\n",
       "      <th>T</th>\n",
       "      <td>9.11</td>\n",
       "    </tr>\n",
       "    <tr>\n",
       "      <th>Fighting</th>\n",
       "      <th>NOT!</th>\n",
       "      <td>4.59</td>\n",
       "    </tr>\n",
       "    <tr>\n",
       "      <th>Action</th>\n",
       "      <th>M</th>\n",
       "      <td>4.54</td>\n",
       "    </tr>\n",
       "    <tr>\n",
       "      <th>Misc</th>\n",
       "      <th>NOT!</th>\n",
       "      <td>4.51</td>\n",
       "    </tr>\n",
       "    <tr>\n",
       "      <th>Adventure</th>\n",
       "      <th>NOT!</th>\n",
       "      <td>3.95</td>\n",
       "    </tr>\n",
       "    <tr>\n",
       "      <th>Action</th>\n",
       "      <th>T</th>\n",
       "      <td>3.55</td>\n",
       "    </tr>\n",
       "  </tbody>\n",
       "</table>\n",
       "</div>"
      ],
      "text/plain": [
       "                       sum\n",
       "genre        rating       \n",
       "Role-Playing NOT!    21.51\n",
       "Action       NOT!    21.50\n",
       "Role-Playing T        9.11\n",
       "Fighting     NOT!     4.59\n",
       "Action       M        4.54\n",
       "Misc         NOT!     4.51\n",
       "Adventure    NOT!     3.95\n",
       "Action       T        3.55"
      ]
     },
     "metadata": {},
     "output_type": "display_data"
    },
    {
     "name": "stdout",
     "output_type": "stream",
     "text": [
      "--------------------------------------------\n"
     ]
    }
   ],
   "source": [
    "region=['na_sales','eu_sales','jp_sales']\n",
    "for i in region:\n",
    "    print()\n",
    "    print(f'регион: {i}')\n",
    "    sum_region=df_actual[i].sum()\n",
    "    df_actual_p=df_actual.groupby(by=['platform'])[i].agg(['sum']).sort_values(by='sum', ascending=False)\n",
    "    df_actual_p['ratio']=df_actual_p['sum']/sum_region\n",
    "    display(df_actual_p.head())\n",
    "    df_actual_g=df_actual.groupby(by=['genre'])[i].agg(['sum']).sort_values(by='sum', ascending=False)\n",
    "    df_actual_g['ratio']=df_actual_g['sum']/sum_region\n",
    "    display(df_actual_g.head())\n",
    "#блок для анализа рейтинга и его влияния    \n",
    "    df_actual_r=df_actual.groupby(by=['rating'])[i].agg(['sum']).sort_values(by='sum', ascending=False)\n",
    "    df_actual_r['ratio']=df_actual_r['sum']/sum_region\n",
    "    display(df_actual_r.head())\n",
    "    df_actual_p1=df_actual.groupby(by=['platform','rating'])[i].agg(['sum']).sort_values(by='sum', ascending=False)\n",
    "    df_actual_g1=df_actual.groupby(by=['genre','rating'])[i].agg(['sum']).sort_values(by='sum', ascending=False)\n",
    "    display(df_actual_p1.head(8))\n",
    "    display(df_actual_g1.head(8))\n",
    "    print('--------------------------------------------')"
   ]
  },
  {
   "cell_type": "markdown",
   "id": "aaed597a",
   "metadata": {},
   "source": [
    "<div style=\"border:solid steelblue 1px; padding: 20px\">\n",
    "На основе полученных данныхможно сделать следующие выводы:<br />\n",
    "В Северной америке и Европе лидирут игры с рейтингом M (~34% от всей выручки региона). В Японии лидируют игры без рейтинга (61% рынка).<br /> \n",
    "В Северной Америке:<br /> \n",
    "Лидирует плптформа PS4, которая занимает почти 35% рынка, а самый популярный жанр Shooter, он занимает 28% всей выручки<br /> \n",
    "В Европе:<br /> \n",
    "Лидирует плптформа PS4, которая занимает 48% рынка, а самый популярный жанр Action, он занимает 27% всей выручки<br /> \n",
    "В Японии:<br /> \n",
    "Лидируют плптформа 3DS, которая занимает примерно 47% рынка, а самый популярный жанр Role-Playing, он занимает 33% всей выручки<br /> "
   ]
  },
  {
   "cell_type": "markdown",
   "id": "77e9e657",
   "metadata": {},
   "source": [
    "## ПОСТРОЕНИЕ МОДЕЛЕЙ ДЛЯ ПРЕДСКАЗАНИЯ ПРОДАЖ В СЕВЕРНОЙ АМЕРИКЕ"
   ]
  },
  {
   "cell_type": "markdown",
   "id": "44f1aff9",
   "metadata": {},
   "source": [
    "<div style=\"border:solid steelblue 1px; padding: 20px\">\n",
    "    Для обучения модели заменим \"заглушки\"(т.е. значения -1) на медианные в каждом жанре "
   ]
  },
  {
   "cell_type": "code",
   "execution_count": 21,
   "id": "315595ac",
   "metadata": {},
   "outputs": [],
   "source": [
    "def inputation(df_actual):\n",
    "    for i in df_actual['genre'].unique():\n",
    "        df_actual.loc[(df_actual['genre'] == i) & (df_actual['critic_score']==-1), 'critic_score'] = round(df_actual['critic_score'].median(), 0)\n",
    "        df_actual.loc[(df_actual['genre'] == i) & (df_actual['critic_count']==-1), 'critic_count'] = round(df_actual['critic_count'].median(), 0)\n",
    "        df_actual.loc[(df_actual['genre'] == i) & (df_actual['user_score']==-1), 'user_score'] = round(df_actual['user_score'].median(), 0)\n",
    "        df_actual.loc[(df_actual['genre'] == i) & (df_actual['user_count']==-1), 'user_count'] = round(df_actual['user_count'].median(), 0)"
   ]
  },
  {
   "cell_type": "code",
   "execution_count": 22,
   "id": "ef2c5107",
   "metadata": {},
   "outputs": [],
   "source": [
    "inputation(df_actual)"
   ]
  },
  {
   "cell_type": "markdown",
   "id": "f874b462",
   "metadata": {},
   "source": [
    "<div style=\"border:solid steelblue 1px; padding: 20px\">\n",
    "    Разделим на обучающую и тестовую выборки"
   ]
  },
  {
   "cell_type": "code",
   "execution_count": 23,
   "id": "3c31432c",
   "metadata": {},
   "outputs": [],
   "source": [
    "df_train, df_test = train_test_split(df_actual, test_size=0.25, random_state=42)"
   ]
  },
  {
   "cell_type": "code",
   "execution_count": 24,
   "id": "5d7790f9",
   "metadata": {},
   "outputs": [
    {
     "data": {
      "text/plain": [
       "((1436, 15), (479, 15))"
      ]
     },
     "execution_count": 24,
     "metadata": {},
     "output_type": "execute_result"
    }
   ],
   "source": [
    "df_train.shape, df_test.shape"
   ]
  },
  {
   "cell_type": "markdown",
   "id": "033dd8fb",
   "metadata": {},
   "source": [
    "<div style=\"border:solid steelblue 1px; padding: 20px\">\n",
    "Для избежания переобучения уберем из наших данных информацию по всем регионам кроме северной америке(её мы будем предсказывать)"
   ]
  },
  {
   "cell_type": "code",
   "execution_count": 25,
   "id": "bdc54e47",
   "metadata": {},
   "outputs": [],
   "source": [
    "Y_train =df_train['na_sales'] \n",
    "Y_test = df_test['na_sales']\n",
    "X_train = df_train.drop(['na_sales','eu_sales','jp_sales','other_sales','global_sales'],axis=1)\n",
    "X_test = df_test.drop(['na_sales','eu_sales','jp_sales','other_sales','global_sales'],axis=1)"
   ]
  },
  {
   "cell_type": "code",
   "execution_count": 26,
   "id": "7a41a20b",
   "metadata": {},
   "outputs": [
    {
     "data": {
      "text/html": [
       "<div>\n",
       "<style scoped>\n",
       "    .dataframe tbody tr th:only-of-type {\n",
       "        vertical-align: middle;\n",
       "    }\n",
       "\n",
       "    .dataframe tbody tr th {\n",
       "        vertical-align: top;\n",
       "    }\n",
       "\n",
       "    .dataframe thead th {\n",
       "        text-align: right;\n",
       "    }\n",
       "</style>\n",
       "<table border=\"1\" class=\"dataframe\">\n",
       "  <thead>\n",
       "    <tr style=\"text-align: right;\">\n",
       "      <th></th>\n",
       "      <th>name</th>\n",
       "      <th>platform</th>\n",
       "      <th>year_of_release</th>\n",
       "      <th>genre</th>\n",
       "      <th>Publisher</th>\n",
       "      <th>critic_score</th>\n",
       "      <th>critic_count</th>\n",
       "      <th>user_score</th>\n",
       "      <th>user_count</th>\n",
       "      <th>rating</th>\n",
       "    </tr>\n",
       "  </thead>\n",
       "  <tbody>\n",
       "    <tr>\n",
       "      <th>1387</th>\n",
       "      <td>Touhou Genso Rondo: Bullet Ballet</td>\n",
       "      <td>PS4</td>\n",
       "      <td>2016</td>\n",
       "      <td>Shooter</td>\n",
       "      <td>Nippon Ichi Software</td>\n",
       "      <td>55</td>\n",
       "      <td>19</td>\n",
       "      <td>4.7</td>\n",
       "      <td>34</td>\n",
       "      <td>E10+</td>\n",
       "    </tr>\n",
       "    <tr>\n",
       "      <th>1874</th>\n",
       "      <td>Dark Parables: The Little Mermaid and the Purp...</td>\n",
       "      <td>PC</td>\n",
       "      <td>2016</td>\n",
       "      <td>Adventure</td>\n",
       "      <td>Astragon</td>\n",
       "      <td>-1</td>\n",
       "      <td>-1</td>\n",
       "      <td>-1.0</td>\n",
       "      <td>-1</td>\n",
       "      <td>NOT!</td>\n",
       "    </tr>\n",
       "    <tr>\n",
       "      <th>543</th>\n",
       "      <td>One Piece: Pirate Warriors 3</td>\n",
       "      <td>PS3</td>\n",
       "      <td>2015</td>\n",
       "      <td>Action</td>\n",
       "      <td>Namco Bandai Games</td>\n",
       "      <td>-1</td>\n",
       "      <td>-1</td>\n",
       "      <td>3.7</td>\n",
       "      <td>7</td>\n",
       "      <td>T</td>\n",
       "    </tr>\n",
       "    <tr>\n",
       "      <th>478</th>\n",
       "      <td>Metro: Last Light</td>\n",
       "      <td>XOne</td>\n",
       "      <td>2014</td>\n",
       "      <td>Action</td>\n",
       "      <td>Deep Silver</td>\n",
       "      <td>-1</td>\n",
       "      <td>-1</td>\n",
       "      <td>-1.0</td>\n",
       "      <td>-1</td>\n",
       "      <td>NOT!</td>\n",
       "    </tr>\n",
       "    <tr>\n",
       "      <th>741</th>\n",
       "      <td>F1 2016 (Codemasters)</td>\n",
       "      <td>XOne</td>\n",
       "      <td>2016</td>\n",
       "      <td>Racing</td>\n",
       "      <td>Codemasters</td>\n",
       "      <td>-1</td>\n",
       "      <td>-1</td>\n",
       "      <td>-1.0</td>\n",
       "      <td>-1</td>\n",
       "      <td>NOT!</td>\n",
       "    </tr>\n",
       "  </tbody>\n",
       "</table>\n",
       "</div>"
      ],
      "text/plain": [
       "                                                   name platform  \\\n",
       "1387                  Touhou Genso Rondo: Bullet Ballet      PS4   \n",
       "1874  Dark Parables: The Little Mermaid and the Purp...       PC   \n",
       "543                        One Piece: Pirate Warriors 3      PS3   \n",
       "478                                   Metro: Last Light     XOne   \n",
       "741                               F1 2016 (Codemasters)     XOne   \n",
       "\n",
       "      year_of_release      genre             Publisher  critic_score  \\\n",
       "1387             2016    Shooter  Nippon Ichi Software            55   \n",
       "1874             2016  Adventure              Astragon            -1   \n",
       "543              2015     Action    Namco Bandai Games            -1   \n",
       "478              2014     Action           Deep Silver            -1   \n",
       "741              2016     Racing           Codemasters            -1   \n",
       "\n",
       "      critic_count  user_score  user_count rating  \n",
       "1387            19         4.7          34   E10+  \n",
       "1874            -1        -1.0          -1   NOT!  \n",
       "543             -1         3.7           7      T  \n",
       "478             -1        -1.0          -1   NOT!  \n",
       "741             -1        -1.0          -1   NOT!  "
      ]
     },
     "execution_count": 26,
     "metadata": {},
     "output_type": "execute_result"
    }
   ],
   "source": [
    "X_train.head()"
   ]
  },
  {
   "cell_type": "markdown",
   "id": "a47a1675",
   "metadata": {},
   "source": [
    "<div style=\"border:solid steelblue 1px; padding: 20px\">\n",
    "Выделим категориальные признаки"
   ]
  },
  {
   "cell_type": "code",
   "execution_count": 27,
   "id": "697757c8",
   "metadata": {},
   "outputs": [],
   "source": [
    "cat_columns = list(X_train.select_dtypes('object').columns)"
   ]
  },
  {
   "cell_type": "code",
   "execution_count": 28,
   "id": "688b4ffc",
   "metadata": {},
   "outputs": [
    {
     "data": {
      "text/plain": [
       "['name', 'platform', 'genre', 'Publisher', 'rating']"
      ]
     },
     "execution_count": 28,
     "metadata": {},
     "output_type": "execute_result"
    }
   ],
   "source": [
    "cat_columns"
   ]
  },
  {
   "cell_type": "code",
   "execution_count": 29,
   "id": "46542e5c",
   "metadata": {},
   "outputs": [],
   "source": [
    "def model_learning(model, parameters):\n",
    "    cv = ShuffleSplit(n_splits=3, test_size=0.25, random_state=42)\n",
    "    grid_model = GridSearchCV(model, parameters, scoring='neg_mean_squared_error', cv=cv, verbose=3)\n",
    "    grid_model.fit(features_train, target_train)\n",
    "    print('Лучшая оценка на валидации: ', grid_model.best_score_)\n",
    "    print('Лучшие гиперпараметры модели на валидации: ', grid_model.best_params_)\n",
    "    print('Лучшая модель: ', grid_model.best_estimator_)\n",
    "    return grid_model.best_estimator_"
   ]
  },
  {
   "cell_type": "code",
   "execution_count": 30,
   "id": "d1e8e117",
   "metadata": {},
   "outputs": [],
   "source": [
    "def test_scoring(model, X_test1, Y_test1):\n",
    "    pred_test = model.predict(X_test1)\n",
    "    print('Accuracy: ', round(model.score(X_test1, Y_test1), 3))\n",
    "    print('MSE: ', round(mean_squared_error(Y_test1,pred_test), 3))"
   ]
  },
  {
   "cell_type": "markdown",
   "id": "e81eb674",
   "metadata": {},
   "source": [
    "<div style=\"border:solid steelblue 1px; padding: 20px\">\n",
    "CatBoost"
   ]
  },
  {
   "cell_type": "code",
   "execution_count": 31,
   "id": "98f6fded",
   "metadata": {
    "scrolled": false
   },
   "outputs": [
    {
     "name": "stdout",
     "output_type": "stream",
     "text": [
      "Fitting 3 folds for each of 16 candidates, totalling 48 fits\n",
      "[CV 1/3] END l2_leaf_reg=1, learning_rate=0.1, max_depth=1, n_estimators=300;, score=-0.172 total time=   2.6s\n",
      "[CV 2/3] END l2_leaf_reg=1, learning_rate=0.1, max_depth=1, n_estimators=300;, score=-0.304 total time=   2.4s\n",
      "[CV 3/3] END l2_leaf_reg=1, learning_rate=0.1, max_depth=1, n_estimators=300;, score=-0.137 total time=   2.1s\n",
      "[CV 1/3] END l2_leaf_reg=1, learning_rate=0.1, max_depth=1, n_estimators=500;, score=-0.170 total time=   3.5s\n",
      "[CV 2/3] END l2_leaf_reg=1, learning_rate=0.1, max_depth=1, n_estimators=500;, score=-0.302 total time=   3.9s\n",
      "[CV 3/3] END l2_leaf_reg=1, learning_rate=0.1, max_depth=1, n_estimators=500;, score=-0.136 total time=   5.4s\n",
      "[CV 1/3] END l2_leaf_reg=1, learning_rate=0.1, max_depth=5, n_estimators=300;, score=-0.164 total time=  16.6s\n",
      "[CV 2/3] END l2_leaf_reg=1, learning_rate=0.1, max_depth=5, n_estimators=300;, score=-0.246 total time=  12.7s\n",
      "[CV 3/3] END l2_leaf_reg=1, learning_rate=0.1, max_depth=5, n_estimators=300;, score=-0.096 total time=  13.9s\n",
      "[CV 1/3] END l2_leaf_reg=1, learning_rate=0.1, max_depth=5, n_estimators=500;, score=-0.164 total time=  23.3s\n",
      "[CV 2/3] END l2_leaf_reg=1, learning_rate=0.1, max_depth=5, n_estimators=500;, score=-0.248 total time=  23.4s\n",
      "[CV 3/3] END l2_leaf_reg=1, learning_rate=0.1, max_depth=5, n_estimators=500;, score=-0.100 total time=  21.9s\n",
      "[CV 1/3] END l2_leaf_reg=1, learning_rate=1, max_depth=1, n_estimators=300;, score=-0.180 total time=   2.3s\n",
      "[CV 2/3] END l2_leaf_reg=1, learning_rate=1, max_depth=1, n_estimators=300;, score=-0.302 total time=   2.3s\n",
      "[CV 3/3] END l2_leaf_reg=1, learning_rate=1, max_depth=1, n_estimators=300;, score=-0.144 total time=   2.2s\n",
      "[CV 1/3] END l2_leaf_reg=1, learning_rate=1, max_depth=1, n_estimators=500;, score=-0.183 total time=   4.9s\n",
      "[CV 2/3] END l2_leaf_reg=1, learning_rate=1, max_depth=1, n_estimators=500;, score=-0.301 total time=   5.5s\n",
      "[CV 3/3] END l2_leaf_reg=1, learning_rate=1, max_depth=1, n_estimators=500;, score=-0.146 total time=   4.9s\n",
      "[CV 1/3] END l2_leaf_reg=1, learning_rate=1, max_depth=5, n_estimators=300;, score=-0.238 total time=  13.4s\n",
      "[CV 2/3] END l2_leaf_reg=1, learning_rate=1, max_depth=5, n_estimators=300;, score=-0.238 total time=  12.9s\n",
      "[CV 3/3] END l2_leaf_reg=1, learning_rate=1, max_depth=5, n_estimators=300;, score=-0.126 total time=  12.7s\n",
      "[CV 1/3] END l2_leaf_reg=1, learning_rate=1, max_depth=5, n_estimators=500;, score=-0.240 total time=  23.2s\n",
      "[CV 2/3] END l2_leaf_reg=1, learning_rate=1, max_depth=5, n_estimators=500;, score=-0.237 total time=  21.8s\n",
      "[CV 3/3] END l2_leaf_reg=1, learning_rate=1, max_depth=5, n_estimators=500;, score=-0.127 total time=  21.1s\n",
      "[CV 1/3] END l2_leaf_reg=3, learning_rate=0.1, max_depth=1, n_estimators=300;, score=-0.171 total time=   2.1s\n",
      "[CV 2/3] END l2_leaf_reg=3, learning_rate=0.1, max_depth=1, n_estimators=300;, score=-0.306 total time=   2.1s\n",
      "[CV 3/3] END l2_leaf_reg=3, learning_rate=0.1, max_depth=1, n_estimators=300;, score=-0.137 total time=   2.1s\n",
      "[CV 1/3] END l2_leaf_reg=3, learning_rate=0.1, max_depth=1, n_estimators=500;, score=-0.170 total time=   3.8s\n",
      "[CV 2/3] END l2_leaf_reg=3, learning_rate=0.1, max_depth=1, n_estimators=500;, score=-0.303 total time=   4.3s\n",
      "[CV 3/3] END l2_leaf_reg=3, learning_rate=0.1, max_depth=1, n_estimators=500;, score=-0.136 total time=   4.3s\n",
      "[CV 1/3] END l2_leaf_reg=3, learning_rate=0.1, max_depth=5, n_estimators=300;, score=-0.157 total time=  13.7s\n",
      "[CV 2/3] END l2_leaf_reg=3, learning_rate=0.1, max_depth=5, n_estimators=300;, score=-0.264 total time=  12.0s\n",
      "[CV 3/3] END l2_leaf_reg=3, learning_rate=0.1, max_depth=5, n_estimators=300;, score=-0.095 total time=  12.1s\n",
      "[CV 1/3] END l2_leaf_reg=3, learning_rate=0.1, max_depth=5, n_estimators=500;, score=-0.155 total time=  20.3s\n",
      "[CV 2/3] END l2_leaf_reg=3, learning_rate=0.1, max_depth=5, n_estimators=500;, score=-0.259 total time=  20.9s\n",
      "[CV 3/3] END l2_leaf_reg=3, learning_rate=0.1, max_depth=5, n_estimators=500;, score=-0.092 total time=  21.0s\n",
      "[CV 1/3] END l2_leaf_reg=3, learning_rate=1, max_depth=1, n_estimators=300;, score=-0.180 total time=   2.1s\n",
      "[CV 2/3] END l2_leaf_reg=3, learning_rate=1, max_depth=1, n_estimators=300;, score=-0.306 total time=   2.2s\n",
      "[CV 3/3] END l2_leaf_reg=3, learning_rate=1, max_depth=1, n_estimators=300;, score=-0.141 total time=   3.0s\n",
      "[CV 1/3] END l2_leaf_reg=3, learning_rate=1, max_depth=1, n_estimators=500;, score=-0.182 total time=   4.1s\n",
      "[CV 2/3] END l2_leaf_reg=3, learning_rate=1, max_depth=1, n_estimators=500;, score=-0.304 total time=   3.7s\n",
      "[CV 3/3] END l2_leaf_reg=3, learning_rate=1, max_depth=1, n_estimators=500;, score=-0.143 total time=   3.7s\n",
      "[CV 1/3] END l2_leaf_reg=3, learning_rate=1, max_depth=5, n_estimators=300;, score=-0.192 total time=  15.1s\n",
      "[CV 2/3] END l2_leaf_reg=3, learning_rate=1, max_depth=5, n_estimators=300;, score=-0.256 total time=  13.3s\n",
      "[CV 3/3] END l2_leaf_reg=3, learning_rate=1, max_depth=5, n_estimators=300;, score=-0.142 total time=  12.6s\n",
      "[CV 1/3] END l2_leaf_reg=3, learning_rate=1, max_depth=5, n_estimators=500;, score=-0.191 total time=  20.9s\n",
      "[CV 2/3] END l2_leaf_reg=3, learning_rate=1, max_depth=5, n_estimators=500;, score=-0.257 total time=  21.0s\n",
      "[CV 3/3] END l2_leaf_reg=3, learning_rate=1, max_depth=5, n_estimators=500;, score=-0.142 total time=  26.1s\n",
      "Лучшая оценка на валидации:  -0.16846157635273126\n",
      "Лучшие гиперпараметры модели на валидации:  {'l2_leaf_reg': 3, 'learning_rate': 0.1, 'max_depth': 5, 'n_estimators': 500}\n",
      "Лучшая модель:  <catboost.core.CatBoostRegressor object at 0x0000025A82314DC0>\n",
      "Wall time: 8min 53s\n"
     ]
    }
   ],
   "source": [
    "%%time\n",
    "\n",
    "features_train=X_train\n",
    "target_train=Y_train\n",
    "\n",
    "CatBoost_reg = CatBoostRegressor(random_state=42, verbose=0, cat_features=cat_columns)\n",
    "CatBoost_reg_param = {'n_estimators': [300, 500],\n",
    "                      'learning_rate': [0.1, 1],\n",
    "                      'max_depth': [1, 5],\n",
    "                      'l2_leaf_reg': [1, 3]}\n",
    "\n",
    "CatBoost_fitted = model_learning(CatBoost_reg, CatBoost_reg_param)"
   ]
  },
  {
   "cell_type": "code",
   "execution_count": 32,
   "id": "60acd380",
   "metadata": {},
   "outputs": [
    {
     "name": "stdout",
     "output_type": "stream",
     "text": [
      "Accuracy:  0.532\n",
      "MSE:  0.046\n"
     ]
    }
   ],
   "source": [
    "test_scoring(CatBoost_fitted, X_test, Y_test)"
   ]
  },
  {
   "cell_type": "markdown",
   "id": "69f3af33",
   "metadata": {},
   "source": [
    "<div style=\"border:solid steelblue 1px; padding: 20px\">\n",
    "    Random Forest"
   ]
  },
  {
   "cell_type": "markdown",
   "id": "a8e9ec00",
   "metadata": {},
   "source": [
    "<div style=\"border:solid steelblue 1px; padding: 20px\">\n",
    "Чтобы преобразовать категориальные признаки в численные поможет техника Ordinal (для модели Случайный лес)"
   ]
  },
  {
   "cell_type": "code",
   "execution_count": 33,
   "id": "972c1645",
   "metadata": {},
   "outputs": [
    {
     "data": {
      "text/html": [
       "<div>\n",
       "<style scoped>\n",
       "    .dataframe tbody tr th:only-of-type {\n",
       "        vertical-align: middle;\n",
       "    }\n",
       "\n",
       "    .dataframe tbody tr th {\n",
       "        vertical-align: top;\n",
       "    }\n",
       "\n",
       "    .dataframe thead th {\n",
       "        text-align: right;\n",
       "    }\n",
       "</style>\n",
       "<table border=\"1\" class=\"dataframe\">\n",
       "  <thead>\n",
       "    <tr style=\"text-align: right;\">\n",
       "      <th></th>\n",
       "      <th>name</th>\n",
       "      <th>platform</th>\n",
       "      <th>year_of_release</th>\n",
       "      <th>genre</th>\n",
       "      <th>Publisher</th>\n",
       "      <th>critic_score</th>\n",
       "      <th>critic_count</th>\n",
       "      <th>user_score</th>\n",
       "      <th>user_count</th>\n",
       "      <th>rating</th>\n",
       "    </tr>\n",
       "  </thead>\n",
       "  <tbody>\n",
       "    <tr>\n",
       "      <th>1387</th>\n",
       "      <td>847</td>\n",
       "      <td>4</td>\n",
       "      <td>2016</td>\n",
       "      <td>8</td>\n",
       "      <td>91</td>\n",
       "      <td>55</td>\n",
       "      <td>19</td>\n",
       "      <td>4.7</td>\n",
       "      <td>34</td>\n",
       "      <td>1</td>\n",
       "    </tr>\n",
       "    <tr>\n",
       "      <th>1874</th>\n",
       "      <td>136</td>\n",
       "      <td>2</td>\n",
       "      <td>2016</td>\n",
       "      <td>1</td>\n",
       "      <td>14</td>\n",
       "      <td>-1</td>\n",
       "      <td>-1</td>\n",
       "      <td>-1.0</td>\n",
       "      <td>-1</td>\n",
       "      <td>3</td>\n",
       "    </tr>\n",
       "    <tr>\n",
       "      <th>543</th>\n",
       "      <td>559</td>\n",
       "      <td>3</td>\n",
       "      <td>2015</td>\n",
       "      <td>0</td>\n",
       "      <td>85</td>\n",
       "      <td>-1</td>\n",
       "      <td>-1</td>\n",
       "      <td>3.7</td>\n",
       "      <td>7</td>\n",
       "      <td>4</td>\n",
       "    </tr>\n",
       "    <tr>\n",
       "      <th>478</th>\n",
       "      <td>482</td>\n",
       "      <td>10</td>\n",
       "      <td>2014</td>\n",
       "      <td>0</td>\n",
       "      <td>33</td>\n",
       "      <td>-1</td>\n",
       "      <td>-1</td>\n",
       "      <td>-1.0</td>\n",
       "      <td>-1</td>\n",
       "      <td>3</td>\n",
       "    </tr>\n",
       "    <tr>\n",
       "      <th>741</th>\n",
       "      <td>236</td>\n",
       "      <td>10</td>\n",
       "      <td>2016</td>\n",
       "      <td>6</td>\n",
       "      <td>27</td>\n",
       "      <td>-1</td>\n",
       "      <td>-1</td>\n",
       "      <td>-1.0</td>\n",
       "      <td>-1</td>\n",
       "      <td>3</td>\n",
       "    </tr>\n",
       "    <tr>\n",
       "      <th>1242</th>\n",
       "      <td>29</td>\n",
       "      <td>6</td>\n",
       "      <td>2014</td>\n",
       "      <td>1</td>\n",
       "      <td>63</td>\n",
       "      <td>-1</td>\n",
       "      <td>-1</td>\n",
       "      <td>-1.0</td>\n",
       "      <td>-1</td>\n",
       "      <td>3</td>\n",
       "    </tr>\n",
       "    <tr>\n",
       "      <th>774</th>\n",
       "      <td>830</td>\n",
       "      <td>2</td>\n",
       "      <td>2016</td>\n",
       "      <td>8</td>\n",
       "      <td>38</td>\n",
       "      <td>86</td>\n",
       "      <td>29</td>\n",
       "      <td>8.1</td>\n",
       "      <td>541</td>\n",
       "      <td>2</td>\n",
       "    </tr>\n",
       "    <tr>\n",
       "      <th>1449</th>\n",
       "      <td>143</td>\n",
       "      <td>10</td>\n",
       "      <td>2016</td>\n",
       "      <td>0</td>\n",
       "      <td>25</td>\n",
       "      <td>-1</td>\n",
       "      <td>-1</td>\n",
       "      <td>8.8</td>\n",
       "      <td>13</td>\n",
       "      <td>2</td>\n",
       "    </tr>\n",
       "    <tr>\n",
       "      <th>1177</th>\n",
       "      <td>103</td>\n",
       "      <td>0</td>\n",
       "      <td>2016</td>\n",
       "      <td>3</td>\n",
       "      <td>45</td>\n",
       "      <td>-1</td>\n",
       "      <td>-1</td>\n",
       "      <td>-1.0</td>\n",
       "      <td>-1</td>\n",
       "      <td>3</td>\n",
       "    </tr>\n",
       "    <tr>\n",
       "      <th>519</th>\n",
       "      <td>421</td>\n",
       "      <td>4</td>\n",
       "      <td>2016</td>\n",
       "      <td>0</td>\n",
       "      <td>136</td>\n",
       "      <td>73</td>\n",
       "      <td>17</td>\n",
       "      <td>8.1</td>\n",
       "      <td>7</td>\n",
       "      <td>1</td>\n",
       "    </tr>\n",
       "  </tbody>\n",
       "</table>\n",
       "</div>"
      ],
      "text/plain": [
       "      name  platform  year_of_release  genre  Publisher  critic_score  \\\n",
       "1387   847         4             2016      8         91            55   \n",
       "1874   136         2             2016      1         14            -1   \n",
       "543    559         3             2015      0         85            -1   \n",
       "478    482        10             2014      0         33            -1   \n",
       "741    236        10             2016      6         27            -1   \n",
       "1242    29         6             2014      1         63            -1   \n",
       "774    830         2             2016      8         38            86   \n",
       "1449   143        10             2016      0         25            -1   \n",
       "1177   103         0             2016      3         45            -1   \n",
       "519    421         4             2016      0        136            73   \n",
       "\n",
       "      critic_count  user_score  user_count  rating  \n",
       "1387            19         4.7          34       1  \n",
       "1874            -1        -1.0          -1       3  \n",
       "543             -1         3.7           7       4  \n",
       "478             -1        -1.0          -1       3  \n",
       "741             -1        -1.0          -1       3  \n",
       "1242            -1        -1.0          -1       3  \n",
       "774             29         8.1         541       2  \n",
       "1449            -1         8.8          13       2  \n",
       "1177            -1        -1.0          -1       3  \n",
       "519             17         8.1           7       1  "
      ]
     },
     "execution_count": 33,
     "metadata": {},
     "output_type": "execute_result"
    }
   ],
   "source": [
    "encoder = OrdinalEncoder()\n",
    "features_train_f=X_train.copy()\n",
    "features_test_f=X_test.copy()\n",
    "target_train_f=Y_train.copy()\n",
    "\n",
    "features_train_f.loc[:,cat_columns] = encoder.fit_transform(features_train_f.loc[:, cat_columns]).astype('int64')\n",
    "features_test_f.loc[:, cat_columns] = encoder.fit_transform(features_test_f.loc[:, cat_columns]).astype('int64')\n",
    "features_train_f.head(10)"
   ]
  },
  {
   "cell_type": "code",
   "execution_count": 34,
   "id": "e974e128",
   "metadata": {
    "scrolled": true
   },
   "outputs": [
    {
     "name": "stdout",
     "output_type": "stream",
     "text": [
      "Fitting 3 folds for each of 81 candidates, totalling 243 fits\n",
      "[CV 1/3] END max_depth=None, min_samples_leaf=1, min_samples_split=2, n_estimators=300;, score=-0.174 total time=   6.8s\n",
      "[CV 2/3] END max_depth=None, min_samples_leaf=1, min_samples_split=2, n_estimators=300;, score=-0.289 total time=   0.7s\n",
      "[CV 3/3] END max_depth=None, min_samples_leaf=1, min_samples_split=2, n_estimators=300;, score=-0.125 total time=   0.7s\n",
      "[CV 1/3] END max_depth=None, min_samples_leaf=1, min_samples_split=2, n_estimators=500;, score=-0.178 total time=   1.1s\n",
      "[CV 2/3] END max_depth=None, min_samples_leaf=1, min_samples_split=2, n_estimators=500;, score=-0.287 total time=   1.0s\n",
      "[CV 3/3] END max_depth=None, min_samples_leaf=1, min_samples_split=2, n_estimators=500;, score=-0.124 total time=   1.0s\n",
      "[CV 1/3] END max_depth=None, min_samples_leaf=1, min_samples_split=2, n_estimators=1000;, score=-0.175 total time=   2.5s\n",
      "[CV 2/3] END max_depth=None, min_samples_leaf=1, min_samples_split=2, n_estimators=1000;, score=-0.288 total time=   2.5s\n",
      "[CV 3/3] END max_depth=None, min_samples_leaf=1, min_samples_split=2, n_estimators=1000;, score=-0.121 total time=   2.3s\n",
      "[CV 1/3] END max_depth=None, min_samples_leaf=1, min_samples_split=4, n_estimators=300;, score=-0.160 total time=   0.6s\n",
      "[CV 2/3] END max_depth=None, min_samples_leaf=1, min_samples_split=4, n_estimators=300;, score=-0.289 total time=   0.6s\n",
      "[CV 3/3] END max_depth=None, min_samples_leaf=1, min_samples_split=4, n_estimators=300;, score=-0.127 total time=   0.6s\n",
      "[CV 1/3] END max_depth=None, min_samples_leaf=1, min_samples_split=4, n_estimators=500;, score=-0.162 total time=   1.1s\n",
      "[CV 2/3] END max_depth=None, min_samples_leaf=1, min_samples_split=4, n_estimators=500;, score=-0.289 total time=   1.0s\n",
      "[CV 3/3] END max_depth=None, min_samples_leaf=1, min_samples_split=4, n_estimators=500;, score=-0.125 total time=   1.0s\n",
      "[CV 1/3] END max_depth=None, min_samples_leaf=1, min_samples_split=4, n_estimators=1000;, score=-0.161 total time=   2.3s\n",
      "[CV 2/3] END max_depth=None, min_samples_leaf=1, min_samples_split=4, n_estimators=1000;, score=-0.289 total time=   2.4s\n",
      "[CV 3/3] END max_depth=None, min_samples_leaf=1, min_samples_split=4, n_estimators=1000;, score=-0.123 total time=   2.8s\n",
      "[CV 1/3] END max_depth=None, min_samples_leaf=1, min_samples_split=6, n_estimators=300;, score=-0.154 total time=   0.7s\n",
      "[CV 2/3] END max_depth=None, min_samples_leaf=1, min_samples_split=6, n_estimators=300;, score=-0.292 total time=   0.7s\n",
      "[CV 3/3] END max_depth=None, min_samples_leaf=1, min_samples_split=6, n_estimators=300;, score=-0.130 total time=   0.8s\n",
      "[CV 1/3] END max_depth=None, min_samples_leaf=1, min_samples_split=6, n_estimators=500;, score=-0.155 total time=   1.3s\n",
      "[CV 2/3] END max_depth=None, min_samples_leaf=1, min_samples_split=6, n_estimators=500;, score=-0.292 total time=   1.1s\n",
      "[CV 3/3] END max_depth=None, min_samples_leaf=1, min_samples_split=6, n_estimators=500;, score=-0.128 total time=   1.4s\n",
      "[CV 1/3] END max_depth=None, min_samples_leaf=1, min_samples_split=6, n_estimators=1000;, score=-0.155 total time=   2.9s\n",
      "[CV 2/3] END max_depth=None, min_samples_leaf=1, min_samples_split=6, n_estimators=1000;, score=-0.292 total time=   2.8s\n",
      "[CV 3/3] END max_depth=None, min_samples_leaf=1, min_samples_split=6, n_estimators=1000;, score=-0.127 total time=   3.0s\n",
      "[CV 1/3] END max_depth=None, min_samples_leaf=3, min_samples_split=2, n_estimators=300;, score=-0.153 total time=   0.9s\n",
      "[CV 2/3] END max_depth=None, min_samples_leaf=3, min_samples_split=2, n_estimators=300;, score=-0.292 total time=   1.0s\n",
      "[CV 3/3] END max_depth=None, min_samples_leaf=3, min_samples_split=2, n_estimators=300;, score=-0.128 total time=   0.7s\n",
      "[CV 1/3] END max_depth=None, min_samples_leaf=3, min_samples_split=2, n_estimators=500;, score=-0.152 total time=   1.0s\n",
      "[CV 2/3] END max_depth=None, min_samples_leaf=3, min_samples_split=2, n_estimators=500;, score=-0.291 total time=   0.9s\n",
      "[CV 3/3] END max_depth=None, min_samples_leaf=3, min_samples_split=2, n_estimators=500;, score=-0.126 total time=   0.9s\n",
      "[CV 1/3] END max_depth=None, min_samples_leaf=3, min_samples_split=2, n_estimators=1000;, score=-0.152 total time=   2.2s\n",
      "[CV 2/3] END max_depth=None, min_samples_leaf=3, min_samples_split=2, n_estimators=1000;, score=-0.291 total time=   2.4s\n",
      "[CV 3/3] END max_depth=None, min_samples_leaf=3, min_samples_split=2, n_estimators=1000;, score=-0.124 total time=   2.4s\n",
      "[CV 1/3] END max_depth=None, min_samples_leaf=3, min_samples_split=4, n_estimators=300;, score=-0.153 total time=   0.7s\n",
      "[CV 2/3] END max_depth=None, min_samples_leaf=3, min_samples_split=4, n_estimators=300;, score=-0.292 total time=   0.8s\n",
      "[CV 3/3] END max_depth=None, min_samples_leaf=3, min_samples_split=4, n_estimators=300;, score=-0.128 total time=   0.9s\n",
      "[CV 1/3] END max_depth=None, min_samples_leaf=3, min_samples_split=4, n_estimators=500;, score=-0.152 total time=   1.1s\n",
      "[CV 2/3] END max_depth=None, min_samples_leaf=3, min_samples_split=4, n_estimators=500;, score=-0.291 total time=   1.1s\n",
      "[CV 3/3] END max_depth=None, min_samples_leaf=3, min_samples_split=4, n_estimators=500;, score=-0.126 total time=   0.9s\n",
      "[CV 1/3] END max_depth=None, min_samples_leaf=3, min_samples_split=4, n_estimators=1000;, score=-0.152 total time=   2.1s\n",
      "[CV 2/3] END max_depth=None, min_samples_leaf=3, min_samples_split=4, n_estimators=1000;, score=-0.291 total time=   2.1s\n",
      "[CV 3/3] END max_depth=None, min_samples_leaf=3, min_samples_split=4, n_estimators=1000;, score=-0.124 total time=   2.1s\n",
      "[CV 1/3] END max_depth=None, min_samples_leaf=3, min_samples_split=6, n_estimators=300;, score=-0.153 total time=   0.6s\n",
      "[CV 2/3] END max_depth=None, min_samples_leaf=3, min_samples_split=6, n_estimators=300;, score=-0.292 total time=   0.6s\n",
      "[CV 3/3] END max_depth=None, min_samples_leaf=3, min_samples_split=6, n_estimators=300;, score=-0.128 total time=   0.6s\n",
      "[CV 1/3] END max_depth=None, min_samples_leaf=3, min_samples_split=6, n_estimators=500;, score=-0.152 total time=   1.0s\n",
      "[CV 2/3] END max_depth=None, min_samples_leaf=3, min_samples_split=6, n_estimators=500;, score=-0.291 total time=   1.1s\n",
      "[CV 3/3] END max_depth=None, min_samples_leaf=3, min_samples_split=6, n_estimators=500;, score=-0.126 total time=   1.0s\n",
      "[CV 1/3] END max_depth=None, min_samples_leaf=3, min_samples_split=6, n_estimators=1000;, score=-0.152 total time=   2.1s\n",
      "[CV 2/3] END max_depth=None, min_samples_leaf=3, min_samples_split=6, n_estimators=1000;, score=-0.291 total time=   1.7s\n",
      "[CV 3/3] END max_depth=None, min_samples_leaf=3, min_samples_split=6, n_estimators=1000;, score=-0.124 total time=   1.9s\n",
      "[CV 1/3] END max_depth=None, min_samples_leaf=5, min_samples_split=2, n_estimators=300;, score=-0.152 total time=   0.5s\n",
      "[CV 2/3] END max_depth=None, min_samples_leaf=5, min_samples_split=2, n_estimators=300;, score=-0.298 total time=   0.5s\n",
      "[CV 3/3] END max_depth=None, min_samples_leaf=5, min_samples_split=2, n_estimators=300;, score=-0.133 total time=   0.5s\n",
      "[CV 1/3] END max_depth=None, min_samples_leaf=5, min_samples_split=2, n_estimators=500;, score=-0.151 total time=   0.8s\n",
      "[CV 2/3] END max_depth=None, min_samples_leaf=5, min_samples_split=2, n_estimators=500;, score=-0.297 total time=   0.8s\n",
      "[CV 3/3] END max_depth=None, min_samples_leaf=5, min_samples_split=2, n_estimators=500;, score=-0.131 total time=   0.8s\n",
      "[CV 1/3] END max_depth=None, min_samples_leaf=5, min_samples_split=2, n_estimators=1000;, score=-0.151 total time=   1.7s\n",
      "[CV 2/3] END max_depth=None, min_samples_leaf=5, min_samples_split=2, n_estimators=1000;, score=-0.296 total time=   1.9s\n",
      "[CV 3/3] END max_depth=None, min_samples_leaf=5, min_samples_split=2, n_estimators=1000;, score=-0.130 total time=   2.0s\n",
      "[CV 1/3] END max_depth=None, min_samples_leaf=5, min_samples_split=4, n_estimators=300;, score=-0.152 total time=   0.6s\n",
      "[CV 2/3] END max_depth=None, min_samples_leaf=5, min_samples_split=4, n_estimators=300;, score=-0.298 total time=   0.5s\n",
      "[CV 3/3] END max_depth=None, min_samples_leaf=5, min_samples_split=4, n_estimators=300;, score=-0.133 total time=   0.5s\n",
      "[CV 1/3] END max_depth=None, min_samples_leaf=5, min_samples_split=4, n_estimators=500;, score=-0.151 total time=   0.8s\n",
      "[CV 2/3] END max_depth=None, min_samples_leaf=5, min_samples_split=4, n_estimators=500;, score=-0.297 total time=   0.8s\n"
     ]
    },
    {
     "name": "stdout",
     "output_type": "stream",
     "text": [
      "[CV 3/3] END max_depth=None, min_samples_leaf=5, min_samples_split=4, n_estimators=500;, score=-0.131 total time=   0.8s\n",
      "[CV 1/3] END max_depth=None, min_samples_leaf=5, min_samples_split=4, n_estimators=1000;, score=-0.151 total time=   1.7s\n",
      "[CV 2/3] END max_depth=None, min_samples_leaf=5, min_samples_split=4, n_estimators=1000;, score=-0.296 total time=   1.6s\n",
      "[CV 3/3] END max_depth=None, min_samples_leaf=5, min_samples_split=4, n_estimators=1000;, score=-0.130 total time=   1.6s\n",
      "[CV 1/3] END max_depth=None, min_samples_leaf=5, min_samples_split=6, n_estimators=300;, score=-0.152 total time=   0.6s\n",
      "[CV 2/3] END max_depth=None, min_samples_leaf=5, min_samples_split=6, n_estimators=300;, score=-0.298 total time=   0.5s\n",
      "[CV 3/3] END max_depth=None, min_samples_leaf=5, min_samples_split=6, n_estimators=300;, score=-0.133 total time=   0.6s\n",
      "[CV 1/3] END max_depth=None, min_samples_leaf=5, min_samples_split=6, n_estimators=500;, score=-0.151 total time=   1.0s\n",
      "[CV 2/3] END max_depth=None, min_samples_leaf=5, min_samples_split=6, n_estimators=500;, score=-0.297 total time=   0.9s\n",
      "[CV 3/3] END max_depth=None, min_samples_leaf=5, min_samples_split=6, n_estimators=500;, score=-0.131 total time=   0.9s\n",
      "[CV 1/3] END max_depth=None, min_samples_leaf=5, min_samples_split=6, n_estimators=1000;, score=-0.151 total time=   2.0s\n",
      "[CV 2/3] END max_depth=None, min_samples_leaf=5, min_samples_split=6, n_estimators=1000;, score=-0.296 total time=   1.7s\n",
      "[CV 3/3] END max_depth=None, min_samples_leaf=5, min_samples_split=6, n_estimators=1000;, score=-0.130 total time=   1.6s\n",
      "[CV 1/3] END max_depth=10, min_samples_leaf=1, min_samples_split=2, n_estimators=300;, score=-0.175 total time=   0.5s\n",
      "[CV 2/3] END max_depth=10, min_samples_leaf=1, min_samples_split=2, n_estimators=300;, score=-0.291 total time=   0.5s\n",
      "[CV 3/3] END max_depth=10, min_samples_leaf=1, min_samples_split=2, n_estimators=300;, score=-0.123 total time=   0.6s\n",
      "[CV 1/3] END max_depth=10, min_samples_leaf=1, min_samples_split=2, n_estimators=500;, score=-0.177 total time=   0.8s\n",
      "[CV 2/3] END max_depth=10, min_samples_leaf=1, min_samples_split=2, n_estimators=500;, score=-0.290 total time=   0.9s\n",
      "[CV 3/3] END max_depth=10, min_samples_leaf=1, min_samples_split=2, n_estimators=500;, score=-0.122 total time=   0.9s\n",
      "[CV 1/3] END max_depth=10, min_samples_leaf=1, min_samples_split=2, n_estimators=1000;, score=-0.175 total time=   2.1s\n",
      "[CV 2/3] END max_depth=10, min_samples_leaf=1, min_samples_split=2, n_estimators=1000;, score=-0.290 total time=   2.3s\n",
      "[CV 3/3] END max_depth=10, min_samples_leaf=1, min_samples_split=2, n_estimators=1000;, score=-0.119 total time=   2.5s\n",
      "[CV 1/3] END max_depth=10, min_samples_leaf=1, min_samples_split=4, n_estimators=300;, score=-0.161 total time=   0.6s\n",
      "[CV 2/3] END max_depth=10, min_samples_leaf=1, min_samples_split=4, n_estimators=300;, score=-0.292 total time=   0.5s\n",
      "[CV 3/3] END max_depth=10, min_samples_leaf=1, min_samples_split=4, n_estimators=300;, score=-0.126 total time=   0.5s\n",
      "[CV 1/3] END max_depth=10, min_samples_leaf=1, min_samples_split=4, n_estimators=500;, score=-0.164 total time=   0.9s\n",
      "[CV 2/3] END max_depth=10, min_samples_leaf=1, min_samples_split=4, n_estimators=500;, score=-0.291 total time=   0.9s\n",
      "[CV 3/3] END max_depth=10, min_samples_leaf=1, min_samples_split=4, n_estimators=500;, score=-0.125 total time=   0.9s\n",
      "[CV 1/3] END max_depth=10, min_samples_leaf=1, min_samples_split=4, n_estimators=1000;, score=-0.163 total time=   2.0s\n",
      "[CV 2/3] END max_depth=10, min_samples_leaf=1, min_samples_split=4, n_estimators=1000;, score=-0.291 total time=   1.8s\n",
      "[CV 3/3] END max_depth=10, min_samples_leaf=1, min_samples_split=4, n_estimators=1000;, score=-0.123 total time=   1.7s\n",
      "[CV 1/3] END max_depth=10, min_samples_leaf=1, min_samples_split=6, n_estimators=300;, score=-0.155 total time=   0.5s\n",
      "[CV 2/3] END max_depth=10, min_samples_leaf=1, min_samples_split=6, n_estimators=300;, score=-0.294 total time=   0.6s\n",
      "[CV 3/3] END max_depth=10, min_samples_leaf=1, min_samples_split=6, n_estimators=300;, score=-0.130 total time=   0.7s\n",
      "[CV 1/3] END max_depth=10, min_samples_leaf=1, min_samples_split=6, n_estimators=500;, score=-0.156 total time=   1.2s\n",
      "[CV 2/3] END max_depth=10, min_samples_leaf=1, min_samples_split=6, n_estimators=500;, score=-0.294 total time=   1.1s\n",
      "[CV 3/3] END max_depth=10, min_samples_leaf=1, min_samples_split=6, n_estimators=500;, score=-0.128 total time=   1.0s\n",
      "[CV 1/3] END max_depth=10, min_samples_leaf=1, min_samples_split=6, n_estimators=1000;, score=-0.156 total time=   1.8s\n",
      "[CV 2/3] END max_depth=10, min_samples_leaf=1, min_samples_split=6, n_estimators=1000;, score=-0.293 total time=   1.8s\n",
      "[CV 3/3] END max_depth=10, min_samples_leaf=1, min_samples_split=6, n_estimators=1000;, score=-0.127 total time=   1.7s\n",
      "[CV 1/3] END max_depth=10, min_samples_leaf=3, min_samples_split=2, n_estimators=300;, score=-0.153 total time=   0.6s\n",
      "[CV 2/3] END max_depth=10, min_samples_leaf=3, min_samples_split=2, n_estimators=300;, score=-0.293 total time=   0.5s\n",
      "[CV 3/3] END max_depth=10, min_samples_leaf=3, min_samples_split=2, n_estimators=300;, score=-0.128 total time=   0.5s\n",
      "[CV 1/3] END max_depth=10, min_samples_leaf=3, min_samples_split=2, n_estimators=500;, score=-0.153 total time=   0.8s\n",
      "[CV 2/3] END max_depth=10, min_samples_leaf=3, min_samples_split=2, n_estimators=500;, score=-0.292 total time=   0.9s\n",
      "[CV 3/3] END max_depth=10, min_samples_leaf=3, min_samples_split=2, n_estimators=500;, score=-0.126 total time=   0.9s\n",
      "[CV 1/3] END max_depth=10, min_samples_leaf=3, min_samples_split=2, n_estimators=1000;, score=-0.153 total time=   2.6s\n",
      "[CV 2/3] END max_depth=10, min_samples_leaf=3, min_samples_split=2, n_estimators=1000;, score=-0.292 total time=   2.6s\n",
      "[CV 3/3] END max_depth=10, min_samples_leaf=3, min_samples_split=2, n_estimators=1000;, score=-0.124 total time=   2.8s\n",
      "[CV 1/3] END max_depth=10, min_samples_leaf=3, min_samples_split=4, n_estimators=300;, score=-0.153 total time=   0.6s\n",
      "[CV 2/3] END max_depth=10, min_samples_leaf=3, min_samples_split=4, n_estimators=300;, score=-0.293 total time=   0.6s\n",
      "[CV 3/3] END max_depth=10, min_samples_leaf=3, min_samples_split=4, n_estimators=300;, score=-0.128 total time=   0.6s\n",
      "[CV 1/3] END max_depth=10, min_samples_leaf=3, min_samples_split=4, n_estimators=500;, score=-0.153 total time=   0.9s\n",
      "[CV 2/3] END max_depth=10, min_samples_leaf=3, min_samples_split=4, n_estimators=500;, score=-0.292 total time=   0.8s\n",
      "[CV 3/3] END max_depth=10, min_samples_leaf=3, min_samples_split=4, n_estimators=500;, score=-0.126 total time=   0.9s\n",
      "[CV 1/3] END max_depth=10, min_samples_leaf=3, min_samples_split=4, n_estimators=1000;, score=-0.153 total time=   1.8s\n",
      "[CV 2/3] END max_depth=10, min_samples_leaf=3, min_samples_split=4, n_estimators=1000;, score=-0.292 total time=   2.0s\n",
      "[CV 3/3] END max_depth=10, min_samples_leaf=3, min_samples_split=4, n_estimators=1000;, score=-0.124 total time=   2.3s\n",
      "[CV 1/3] END max_depth=10, min_samples_leaf=3, min_samples_split=6, n_estimators=300;, score=-0.153 total time=   0.6s\n",
      "[CV 2/3] END max_depth=10, min_samples_leaf=3, min_samples_split=6, n_estimators=300;, score=-0.293 total time=   0.6s\n",
      "[CV 3/3] END max_depth=10, min_samples_leaf=3, min_samples_split=6, n_estimators=300;, score=-0.128 total time=   0.7s\n",
      "[CV 1/3] END max_depth=10, min_samples_leaf=3, min_samples_split=6, n_estimators=500;, score=-0.153 total time=   0.9s\n",
      "[CV 2/3] END max_depth=10, min_samples_leaf=3, min_samples_split=6, n_estimators=500;, score=-0.292 total time=   0.8s\n",
      "[CV 3/3] END max_depth=10, min_samples_leaf=3, min_samples_split=6, n_estimators=500;, score=-0.126 total time=   0.8s\n",
      "[CV 1/3] END max_depth=10, min_samples_leaf=3, min_samples_split=6, n_estimators=1000;, score=-0.153 total time=   1.8s\n",
      "[CV 2/3] END max_depth=10, min_samples_leaf=3, min_samples_split=6, n_estimators=1000;, score=-0.292 total time=   1.8s\n",
      "[CV 3/3] END max_depth=10, min_samples_leaf=3, min_samples_split=6, n_estimators=1000;, score=-0.124 total time=   1.8s\n",
      "[CV 1/3] END max_depth=10, min_samples_leaf=5, min_samples_split=2, n_estimators=300;, score=-0.152 total time=   0.5s\n",
      "[CV 2/3] END max_depth=10, min_samples_leaf=5, min_samples_split=2, n_estimators=300;, score=-0.298 total time=   0.5s\n"
     ]
    },
    {
     "name": "stdout",
     "output_type": "stream",
     "text": [
      "[CV 3/3] END max_depth=10, min_samples_leaf=5, min_samples_split=2, n_estimators=300;, score=-0.133 total time=   0.5s\n",
      "[CV 1/3] END max_depth=10, min_samples_leaf=5, min_samples_split=2, n_estimators=500;, score=-0.151 total time=   1.0s\n",
      "[CV 2/3] END max_depth=10, min_samples_leaf=5, min_samples_split=2, n_estimators=500;, score=-0.297 total time=   1.0s\n",
      "[CV 3/3] END max_depth=10, min_samples_leaf=5, min_samples_split=2, n_estimators=500;, score=-0.131 total time=   0.9s\n",
      "[CV 1/3] END max_depth=10, min_samples_leaf=5, min_samples_split=2, n_estimators=1000;, score=-0.151 total time=   1.9s\n",
      "[CV 2/3] END max_depth=10, min_samples_leaf=5, min_samples_split=2, n_estimators=1000;, score=-0.297 total time=   1.7s\n",
      "[CV 3/3] END max_depth=10, min_samples_leaf=5, min_samples_split=2, n_estimators=1000;, score=-0.130 total time=   1.7s\n",
      "[CV 1/3] END max_depth=10, min_samples_leaf=5, min_samples_split=4, n_estimators=300;, score=-0.152 total time=   0.5s\n",
      "[CV 2/3] END max_depth=10, min_samples_leaf=5, min_samples_split=4, n_estimators=300;, score=-0.298 total time=   0.5s\n",
      "[CV 3/3] END max_depth=10, min_samples_leaf=5, min_samples_split=4, n_estimators=300;, score=-0.133 total time=   0.5s\n",
      "[CV 1/3] END max_depth=10, min_samples_leaf=5, min_samples_split=4, n_estimators=500;, score=-0.151 total time=   0.8s\n",
      "[CV 2/3] END max_depth=10, min_samples_leaf=5, min_samples_split=4, n_estimators=500;, score=-0.297 total time=   0.9s\n",
      "[CV 3/3] END max_depth=10, min_samples_leaf=5, min_samples_split=4, n_estimators=500;, score=-0.131 total time=   0.7s\n",
      "[CV 1/3] END max_depth=10, min_samples_leaf=5, min_samples_split=4, n_estimators=1000;, score=-0.151 total time=   1.6s\n",
      "[CV 2/3] END max_depth=10, min_samples_leaf=5, min_samples_split=4, n_estimators=1000;, score=-0.297 total time=   1.8s\n",
      "[CV 3/3] END max_depth=10, min_samples_leaf=5, min_samples_split=4, n_estimators=1000;, score=-0.130 total time=   1.9s\n",
      "[CV 1/3] END max_depth=10, min_samples_leaf=5, min_samples_split=6, n_estimators=300;, score=-0.152 total time=   0.6s\n",
      "[CV 2/3] END max_depth=10, min_samples_leaf=5, min_samples_split=6, n_estimators=300;, score=-0.298 total time=   0.5s\n",
      "[CV 3/3] END max_depth=10, min_samples_leaf=5, min_samples_split=6, n_estimators=300;, score=-0.133 total time=   0.6s\n",
      "[CV 1/3] END max_depth=10, min_samples_leaf=5, min_samples_split=6, n_estimators=500;, score=-0.151 total time=   1.0s\n",
      "[CV 2/3] END max_depth=10, min_samples_leaf=5, min_samples_split=6, n_estimators=500;, score=-0.297 total time=   0.8s\n",
      "[CV 3/3] END max_depth=10, min_samples_leaf=5, min_samples_split=6, n_estimators=500;, score=-0.131 total time=   0.9s\n",
      "[CV 1/3] END max_depth=10, min_samples_leaf=5, min_samples_split=6, n_estimators=1000;, score=-0.151 total time=   1.7s\n",
      "[CV 2/3] END max_depth=10, min_samples_leaf=5, min_samples_split=6, n_estimators=1000;, score=-0.297 total time=   1.7s\n",
      "[CV 3/3] END max_depth=10, min_samples_leaf=5, min_samples_split=6, n_estimators=1000;, score=-0.130 total time=   2.2s\n",
      "[CV 1/3] END max_depth=20, min_samples_leaf=1, min_samples_split=2, n_estimators=300;, score=-0.173 total time=   1.0s\n",
      "[CV 2/3] END max_depth=20, min_samples_leaf=1, min_samples_split=2, n_estimators=300;, score=-0.288 total time=   0.8s\n",
      "[CV 3/3] END max_depth=20, min_samples_leaf=1, min_samples_split=2, n_estimators=300;, score=-0.126 total time=   0.9s\n",
      "[CV 1/3] END max_depth=20, min_samples_leaf=1, min_samples_split=2, n_estimators=500;, score=-0.178 total time=   1.6s\n",
      "[CV 2/3] END max_depth=20, min_samples_leaf=1, min_samples_split=2, n_estimators=500;, score=-0.287 total time=   2.0s\n",
      "[CV 3/3] END max_depth=20, min_samples_leaf=1, min_samples_split=2, n_estimators=500;, score=-0.124 total time=   2.2s\n",
      "[CV 1/3] END max_depth=20, min_samples_leaf=1, min_samples_split=2, n_estimators=1000;, score=-0.175 total time=   5.1s\n",
      "[CV 2/3] END max_depth=20, min_samples_leaf=1, min_samples_split=2, n_estimators=1000;, score=-0.288 total time=   4.8s\n",
      "[CV 3/3] END max_depth=20, min_samples_leaf=1, min_samples_split=2, n_estimators=1000;, score=-0.121 total time=   5.0s\n",
      "[CV 1/3] END max_depth=20, min_samples_leaf=1, min_samples_split=4, n_estimators=300;, score=-0.160 total time=   0.9s\n",
      "[CV 2/3] END max_depth=20, min_samples_leaf=1, min_samples_split=4, n_estimators=300;, score=-0.289 total time=   0.8s\n",
      "[CV 3/3] END max_depth=20, min_samples_leaf=1, min_samples_split=4, n_estimators=300;, score=-0.127 total time=   0.8s\n",
      "[CV 1/3] END max_depth=20, min_samples_leaf=1, min_samples_split=4, n_estimators=500;, score=-0.162 total time=   1.2s\n",
      "[CV 2/3] END max_depth=20, min_samples_leaf=1, min_samples_split=4, n_estimators=500;, score=-0.289 total time=   1.2s\n",
      "[CV 3/3] END max_depth=20, min_samples_leaf=1, min_samples_split=4, n_estimators=500;, score=-0.125 total time=   1.2s\n",
      "[CV 1/3] END max_depth=20, min_samples_leaf=1, min_samples_split=4, n_estimators=1000;, score=-0.161 total time=   2.7s\n",
      "[CV 2/3] END max_depth=20, min_samples_leaf=1, min_samples_split=4, n_estimators=1000;, score=-0.289 total time=   3.5s\n",
      "[CV 3/3] END max_depth=20, min_samples_leaf=1, min_samples_split=4, n_estimators=1000;, score=-0.123 total time=   3.7s\n",
      "[CV 1/3] END max_depth=20, min_samples_leaf=1, min_samples_split=6, n_estimators=300;, score=-0.154 total time=   1.1s\n",
      "[CV 2/3] END max_depth=20, min_samples_leaf=1, min_samples_split=6, n_estimators=300;, score=-0.292 total time=   1.1s\n",
      "[CV 3/3] END max_depth=20, min_samples_leaf=1, min_samples_split=6, n_estimators=300;, score=-0.130 total time=   1.0s\n",
      "[CV 1/3] END max_depth=20, min_samples_leaf=1, min_samples_split=6, n_estimators=500;, score=-0.155 total time=   1.5s\n",
      "[CV 2/3] END max_depth=20, min_samples_leaf=1, min_samples_split=6, n_estimators=500;, score=-0.292 total time=   1.6s\n",
      "[CV 3/3] END max_depth=20, min_samples_leaf=1, min_samples_split=6, n_estimators=500;, score=-0.128 total time=   1.5s\n",
      "[CV 1/3] END max_depth=20, min_samples_leaf=1, min_samples_split=6, n_estimators=1000;, score=-0.155 total time=   2.9s\n",
      "[CV 2/3] END max_depth=20, min_samples_leaf=1, min_samples_split=6, n_estimators=1000;, score=-0.292 total time=   3.9s\n",
      "[CV 3/3] END max_depth=20, min_samples_leaf=1, min_samples_split=6, n_estimators=1000;, score=-0.127 total time=   3.3s\n",
      "[CV 1/3] END max_depth=20, min_samples_leaf=3, min_samples_split=2, n_estimators=300;, score=-0.153 total time=   0.8s\n",
      "[CV 2/3] END max_depth=20, min_samples_leaf=3, min_samples_split=2, n_estimators=300;, score=-0.292 total time=   0.8s\n",
      "[CV 3/3] END max_depth=20, min_samples_leaf=3, min_samples_split=2, n_estimators=300;, score=-0.128 total time=   0.7s\n",
      "[CV 1/3] END max_depth=20, min_samples_leaf=3, min_samples_split=2, n_estimators=500;, score=-0.152 total time=   1.4s\n",
      "[CV 2/3] END max_depth=20, min_samples_leaf=3, min_samples_split=2, n_estimators=500;, score=-0.291 total time=   1.2s\n",
      "[CV 3/3] END max_depth=20, min_samples_leaf=3, min_samples_split=2, n_estimators=500;, score=-0.126 total time=   1.3s\n",
      "[CV 1/3] END max_depth=20, min_samples_leaf=3, min_samples_split=2, n_estimators=1000;, score=-0.152 total time=   3.2s\n",
      "[CV 2/3] END max_depth=20, min_samples_leaf=3, min_samples_split=2, n_estimators=1000;, score=-0.291 total time=   2.4s\n",
      "[CV 3/3] END max_depth=20, min_samples_leaf=3, min_samples_split=2, n_estimators=1000;, score=-0.124 total time=   1.9s\n",
      "[CV 1/3] END max_depth=20, min_samples_leaf=3, min_samples_split=4, n_estimators=300;, score=-0.153 total time=   0.5s\n",
      "[CV 2/3] END max_depth=20, min_samples_leaf=3, min_samples_split=4, n_estimators=300;, score=-0.292 total time=   0.5s\n",
      "[CV 3/3] END max_depth=20, min_samples_leaf=3, min_samples_split=4, n_estimators=300;, score=-0.128 total time=   0.5s\n",
      "[CV 1/3] END max_depth=20, min_samples_leaf=3, min_samples_split=4, n_estimators=500;, score=-0.152 total time=   0.9s\n",
      "[CV 2/3] END max_depth=20, min_samples_leaf=3, min_samples_split=4, n_estimators=500;, score=-0.291 total time=   0.9s\n",
      "[CV 3/3] END max_depth=20, min_samples_leaf=3, min_samples_split=4, n_estimators=500;, score=-0.126 total time=   0.9s\n",
      "[CV 1/3] END max_depth=20, min_samples_leaf=3, min_samples_split=4, n_estimators=1000;, score=-0.152 total time=   2.0s\n",
      "[CV 2/3] END max_depth=20, min_samples_leaf=3, min_samples_split=4, n_estimators=1000;, score=-0.291 total time=   2.1s\n"
     ]
    },
    {
     "name": "stdout",
     "output_type": "stream",
     "text": [
      "[CV 3/3] END max_depth=20, min_samples_leaf=3, min_samples_split=4, n_estimators=1000;, score=-0.124 total time=   2.0s\n",
      "[CV 1/3] END max_depth=20, min_samples_leaf=3, min_samples_split=6, n_estimators=300;, score=-0.153 total time=   0.6s\n",
      "[CV 2/3] END max_depth=20, min_samples_leaf=3, min_samples_split=6, n_estimators=300;, score=-0.292 total time=   0.6s\n",
      "[CV 3/3] END max_depth=20, min_samples_leaf=3, min_samples_split=6, n_estimators=300;, score=-0.128 total time=   0.6s\n",
      "[CV 1/3] END max_depth=20, min_samples_leaf=3, min_samples_split=6, n_estimators=500;, score=-0.152 total time=   1.0s\n",
      "[CV 2/3] END max_depth=20, min_samples_leaf=3, min_samples_split=6, n_estimators=500;, score=-0.291 total time=   0.9s\n",
      "[CV 3/3] END max_depth=20, min_samples_leaf=3, min_samples_split=6, n_estimators=500;, score=-0.126 total time=   0.8s\n",
      "[CV 1/3] END max_depth=20, min_samples_leaf=3, min_samples_split=6, n_estimators=1000;, score=-0.152 total time=   1.7s\n",
      "[CV 2/3] END max_depth=20, min_samples_leaf=3, min_samples_split=6, n_estimators=1000;, score=-0.291 total time=   1.9s\n",
      "[CV 3/3] END max_depth=20, min_samples_leaf=3, min_samples_split=6, n_estimators=1000;, score=-0.124 total time=   1.9s\n",
      "[CV 1/3] END max_depth=20, min_samples_leaf=5, min_samples_split=2, n_estimators=300;, score=-0.152 total time=   0.6s\n",
      "[CV 2/3] END max_depth=20, min_samples_leaf=5, min_samples_split=2, n_estimators=300;, score=-0.298 total time=   0.7s\n",
      "[CV 3/3] END max_depth=20, min_samples_leaf=5, min_samples_split=2, n_estimators=300;, score=-0.133 total time=   0.7s\n",
      "[CV 1/3] END max_depth=20, min_samples_leaf=5, min_samples_split=2, n_estimators=500;, score=-0.151 total time=   1.0s\n",
      "[CV 2/3] END max_depth=20, min_samples_leaf=5, min_samples_split=2, n_estimators=500;, score=-0.297 total time=   1.0s\n",
      "[CV 3/3] END max_depth=20, min_samples_leaf=5, min_samples_split=2, n_estimators=500;, score=-0.131 total time=   1.1s\n",
      "[CV 1/3] END max_depth=20, min_samples_leaf=5, min_samples_split=2, n_estimators=1000;, score=-0.151 total time=   2.0s\n",
      "[CV 2/3] END max_depth=20, min_samples_leaf=5, min_samples_split=2, n_estimators=1000;, score=-0.296 total time=   1.6s\n",
      "[CV 3/3] END max_depth=20, min_samples_leaf=5, min_samples_split=2, n_estimators=1000;, score=-0.130 total time=   1.7s\n",
      "[CV 1/3] END max_depth=20, min_samples_leaf=5, min_samples_split=4, n_estimators=300;, score=-0.152 total time=   0.5s\n",
      "[CV 2/3] END max_depth=20, min_samples_leaf=5, min_samples_split=4, n_estimators=300;, score=-0.298 total time=   0.5s\n",
      "[CV 3/3] END max_depth=20, min_samples_leaf=5, min_samples_split=4, n_estimators=300;, score=-0.133 total time=   0.5s\n",
      "[CV 1/3] END max_depth=20, min_samples_leaf=5, min_samples_split=4, n_estimators=500;, score=-0.151 total time=   0.9s\n",
      "[CV 2/3] END max_depth=20, min_samples_leaf=5, min_samples_split=4, n_estimators=500;, score=-0.297 total time=   0.8s\n",
      "[CV 3/3] END max_depth=20, min_samples_leaf=5, min_samples_split=4, n_estimators=500;, score=-0.131 total time=   0.9s\n",
      "[CV 1/3] END max_depth=20, min_samples_leaf=5, min_samples_split=4, n_estimators=1000;, score=-0.151 total time=   2.0s\n",
      "[CV 2/3] END max_depth=20, min_samples_leaf=5, min_samples_split=4, n_estimators=1000;, score=-0.296 total time=   2.0s\n",
      "[CV 3/3] END max_depth=20, min_samples_leaf=5, min_samples_split=4, n_estimators=1000;, score=-0.130 total time=   2.1s\n",
      "[CV 1/3] END max_depth=20, min_samples_leaf=5, min_samples_split=6, n_estimators=300;, score=-0.152 total time=   0.6s\n",
      "[CV 2/3] END max_depth=20, min_samples_leaf=5, min_samples_split=6, n_estimators=300;, score=-0.298 total time=   0.5s\n",
      "[CV 3/3] END max_depth=20, min_samples_leaf=5, min_samples_split=6, n_estimators=300;, score=-0.133 total time=   0.5s\n",
      "[CV 1/3] END max_depth=20, min_samples_leaf=5, min_samples_split=6, n_estimators=500;, score=-0.151 total time=   0.9s\n",
      "[CV 2/3] END max_depth=20, min_samples_leaf=5, min_samples_split=6, n_estimators=500;, score=-0.297 total time=   0.8s\n",
      "[CV 3/3] END max_depth=20, min_samples_leaf=5, min_samples_split=6, n_estimators=500;, score=-0.131 total time=   0.9s\n",
      "[CV 1/3] END max_depth=20, min_samples_leaf=5, min_samples_split=6, n_estimators=1000;, score=-0.151 total time=   1.8s\n",
      "[CV 2/3] END max_depth=20, min_samples_leaf=5, min_samples_split=6, n_estimators=1000;, score=-0.296 total time=   1.6s\n",
      "[CV 3/3] END max_depth=20, min_samples_leaf=5, min_samples_split=6, n_estimators=1000;, score=-0.130 total time=   1.7s\n",
      "Лучшая оценка на валидации:  -0.18907881715480354\n",
      "Лучшие гиперпараметры модели на валидации:  {'max_depth': None, 'min_samples_leaf': 3, 'min_samples_split': 2, 'n_estimators': 1000}\n",
      "Лучшая модель:  RandomForestRegressor(min_samples_leaf=3, n_estimators=1000, n_jobs=-1,\n",
      "                      random_state=42)\n",
      "Wall time: 5min 50s\n"
     ]
    }
   ],
   "source": [
    "%%time\n",
    "\n",
    "features_train=features_train_f\n",
    "target_train=target_train_f\n",
    "\n",
    "rf = RandomForestRegressor(random_state=42, n_jobs=-1)\n",
    "rf_param = {'n_estimators': [300, 500, 1000],\n",
    "            'max_depth': [None, 10, 20],\n",
    "            'min_samples_leaf': np.arange(1, 6, 2),\n",
    "            'min_samples_split': np.arange(2, 7, 2)}\n",
    "\n",
    "rf_fitted = model_learning(rf, rf_param)"
   ]
  },
  {
   "cell_type": "markdown",
   "id": "9949f62d",
   "metadata": {},
   "source": [
    "<div style=\"border:solid steelblue 1px; padding: 20px\">\n",
    "    Модель CatBoost оказалась лучше. Выведем финальную метрику для тестовой выборки"
   ]
  },
  {
   "cell_type": "code",
   "execution_count": 35,
   "id": "a19a92d9",
   "metadata": {},
   "outputs": [
    {
     "name": "stdout",
     "output_type": "stream",
     "text": [
      "Accuracy:  0.532\n",
      "MSE:  0.046\n"
     ]
    }
   ],
   "source": [
    "test_scoring(CatBoost_fitted, X_test, Y_test)"
   ]
  },
  {
   "cell_type": "markdown",
   "id": "194192cf",
   "metadata": {},
   "source": [
    "<div style=\"border:solid steelblue 1px; padding: 20px\">\n",
    "    Выведем значимость признаков"
   ]
  },
  {
   "cell_type": "code",
   "execution_count": 36,
   "id": "3cb651c2",
   "metadata": {},
   "outputs": [
    {
     "data": {
      "text/plain": [
       "Text(0.5, 1.0, 'Feature Importance')"
      ]
     },
     "execution_count": 36,
     "metadata": {},
     "output_type": "execute_result"
    },
    {
     "data": {
      "image/png": "[encoded data removed]",
      "text/plain": [
       "<Figure size 1200x600 with 1 Axes>"
      ]
     },
     "metadata": {},
     "output_type": "display_data"
    }
   ],
   "source": [
    "feature_importance = CatBoost_fitted.feature_importances_\n",
    "sorted_idx = np.argsort(feature_importance)\n",
    "fig = plt.figure(figsize=(12, 6))\n",
    "plt.barh(range(len(sorted_idx)), feature_importance[sorted_idx], align='center')\n",
    "plt.yticks(range(len(sorted_idx)), np.array(X_test.columns)[sorted_idx])\n",
    "plt.title('Feature Importance')"
   ]
  },
  {
   "cell_type": "markdown",
   "id": "dadb4725",
   "metadata": {},
   "source": [
    "## ВЫВОДЫ"
   ]
  },
  {
   "cell_type": "markdown",
   "id": "697868ef",
   "metadata": {},
   "source": [
    "<div style=\"border:solid steelblue 1px; padding: 20px\">\n",
    "<b>В результате работы:<br /></b>\n",
    "    <br />\n",
    "    Были проанализированы и исправленны входные данные<br />\n",
    "    Отметим, что максимальное число пропусков содержится в столбце с оценкой критиков (более 50%).<br />\n",
    "    Наличие пропусков может быть связано:<br />\n",
    "    1) Механическая ошибка/сбой ситемы<br />\n",
    "    2) Данных чисто физически нет. Напимер: очень старая игра, или не было опросов относительно неё<br />\n",
    "    3) Рейтинг выставляет американская служба и она не смогла/не было необходимости проанализировать игру<br />\n",
    "<br />\n",
    "    Был произведен анализ данных:<br />\n",
    "    * проанализировано число продаж:<br />\n",
    "     число продаж резко увеличилось начиная где-то с 2003 года. Максимальное число продаж пришлось на 2007 год.<br />\n",
    "    <br />\n",
    "    * проанализировна выручка по годам для платформ с наибольшими суммарными продажами;<br /> \n",
    "    * выявлен средний срок жизни платформы(вывод сделан на основе самых успешных платформ). Выбран актуальный период:<br />\n",
    "Средний срок жизни платформы где то 10-11 лет. Пик продаж приходится примерно на середину цикла жизни платформы. Анализируемая индустрия быстро развивается поэтому возьмем актуальный период в 3 года.<br />\n",
    "    <br />\n",
    "    * исходя из актуального периода были выбраны самые перспективные платформы и наооборот:<br />\n",
    "По продажам лидируют платформы PS4, XOne, 3DS. Платформы такие как PS4 и XOne растут и потенциально прибыльные. Продажи по таким платформам как PC,Wii,PS3,X360,PSV  и т.д. убывают<br />\n",
    "    <br />\n",
    "    * рассмотрена корреляция зависимости продажи игр от оценок экспертов и пользователей:<br />\n",
    "Оценки критиков демонстрируют прямую, слабую корреляцию с продажами.<br />\n",
    "Оценки пользователей демонстрируют обратную, очень слабую корреляцию с продажами т.е. оценки пользователей корреляции с продажами практически не имеют<br />\n",
    "    <br />\n",
    "    * рассмотрены предпочтения пользователей по регионам:<br />\n",
    "На основе полученных данныхможно сделать следующие выводы:<br />\n",
    "В Северной америке и Европе лидирут игры с рейтингом M (~34% от всей выручки региона). В Японии лидируют игры без рейтинга (61% рынка).<br /> \n",
    "В Северной Америке:<br /> \n",
    "Лидирует плптформа PS4, которая занимает почти 35% рынка, а самый популярный жанр Shooter, он занимает 28% всей выручки<br /> \n",
    "В Европе:<br /> \n",
    "Лидирует плптформа PS4, которая занимает 48% рынка, а самый популярный жанр Action, он занимает 27% всей выручки<br /> \n",
    "В Японии:<br /> \n",
    "Лидируют плптформа 3DS, которая занимает примерно 47% рынка, а самый популярный жанр Role-Playing, он занимает 33% всей выручки<br /> \n",
    "    <br />\n",
    "    * Разработаны модели для предсказания продаж в Северной Америке<br />\n",
    "    \n",
    "На основе выше сказанного рекомендутся инвестировать в лидирующие платформы и жанры за актуальный период в соответствии с регионом(см выше)."
   ]
  }
 ],
 "metadata": {
  "kernelspec": {
   "display_name": "Python 3 (ipykernel)",
   "language": "python",
   "name": "python3"
  },
  "language_info": {
   "codemirror_mode": {
    "name": "ipython",
    "version": 3
   },
   "file_extension": ".py",
   "mimetype": "text/x-python",
   "name": "python",
   "nbconvert_exporter": "python",
   "pygments_lexer": "ipython3",
   "version": "3.9.13"
  },
  "toc": {
   "base_numbering": 1,
   "nav_menu": {
    "height": "314.983px",
    "width": "379.983px"
   },
   "number_sections": true,
   "sideBar": true,
   "skip_h1_title": false,
   "title_cell": "Table of Contents",
   "title_sidebar": "Contents",
   "toc_cell": false,
   "toc_position": {
    "height": "calc(100% - 180px)",
    "left": "10px",
    "top": "150px",
    "width": "426.667px"
   },
   "toc_section_display": true,
   "toc_window_display": true
  }
 },
 "nbformat": 4,
 "nbformat_minor": 5
}
